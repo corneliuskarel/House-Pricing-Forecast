{
 "cells": [
  {
   "cell_type": "code",
   "execution_count": 1,
   "id": "26f8c612",
   "metadata": {
    "execution": {
     "iopub.execute_input": "2023-12-29T07:15:38.851455Z",
     "iopub.status.busy": "2023-12-29T07:15:38.851081Z",
     "iopub.status.idle": "2023-12-29T07:15:50.875071Z",
     "shell.execute_reply": "2023-12-29T07:15:50.873979Z"
    },
    "papermill": {
     "duration": 12.044194,
     "end_time": "2023-12-29T07:15:50.877543",
     "exception": false,
     "start_time": "2023-12-29T07:15:38.833349",
     "status": "completed"
    },
    "tags": []
   },
   "outputs": [
    {
     "name": "stdout",
     "output_type": "stream",
     "text": [
      "Collecting feature_engine\r\n",
      "  Obtaining dependency information for feature_engine from https://files.pythonhosted.org/packages/62/60/77fcc9d3cfaabab34027aa8ea0025c5e2d4cf9561fa9725a38f0785b43aa/feature_engine-1.6.2-py2.py3-none-any.whl.metadata\r\n",
      "  Downloading feature_engine-1.6.2-py2.py3-none-any.whl.metadata (8.8 kB)\r\n",
      "Requirement already satisfied: numpy>=1.18.2 in /opt/conda/lib/python3.10/site-packages (from feature_engine) (1.24.3)\r\n",
      "Requirement already satisfied: pandas>=1.0.3 in /opt/conda/lib/python3.10/site-packages (from feature_engine) (2.0.3)\r\n",
      "Requirement already satisfied: scikit-learn>=1.0.0 in /opt/conda/lib/python3.10/site-packages (from feature_engine) (1.2.2)\r\n",
      "Requirement already satisfied: scipy>=1.4.1 in /opt/conda/lib/python3.10/site-packages (from feature_engine) (1.11.4)\r\n",
      "Requirement already satisfied: statsmodels>=0.11.1 in /opt/conda/lib/python3.10/site-packages (from feature_engine) (0.14.0)\r\n",
      "Requirement already satisfied: python-dateutil>=2.8.2 in /opt/conda/lib/python3.10/site-packages (from pandas>=1.0.3->feature_engine) (2.8.2)\r\n",
      "Requirement already satisfied: pytz>=2020.1 in /opt/conda/lib/python3.10/site-packages (from pandas>=1.0.3->feature_engine) (2023.3)\r\n",
      "Requirement already satisfied: tzdata>=2022.1 in /opt/conda/lib/python3.10/site-packages (from pandas>=1.0.3->feature_engine) (2023.3)\r\n",
      "Requirement already satisfied: joblib>=1.1.1 in /opt/conda/lib/python3.10/site-packages (from scikit-learn>=1.0.0->feature_engine) (1.3.2)\r\n",
      "Requirement already satisfied: threadpoolctl>=2.0.0 in /opt/conda/lib/python3.10/site-packages (from scikit-learn>=1.0.0->feature_engine) (3.2.0)\r\n",
      "Requirement already satisfied: patsy>=0.5.2 in /opt/conda/lib/python3.10/site-packages (from statsmodels>=0.11.1->feature_engine) (0.5.3)\r\n",
      "Requirement already satisfied: packaging>=21.3 in /opt/conda/lib/python3.10/site-packages (from statsmodels>=0.11.1->feature_engine) (21.3)\r\n",
      "Requirement already satisfied: pyparsing!=3.0.5,>=2.0.2 in /opt/conda/lib/python3.10/site-packages (from packaging>=21.3->statsmodels>=0.11.1->feature_engine) (3.0.9)\r\n",
      "Requirement already satisfied: six in /opt/conda/lib/python3.10/site-packages (from patsy>=0.5.2->statsmodels>=0.11.1->feature_engine) (1.16.0)\r\n",
      "Downloading feature_engine-1.6.2-py2.py3-none-any.whl (328 kB)\r\n",
      "\u001b[2K   \u001b[90m━━━━━━━━━━━━━━━━━━━━━━━━━━━━━━━━━━━━━━━━\u001b[0m \u001b[32m328.9/328.9 kB\u001b[0m \u001b[31m5.1 MB/s\u001b[0m eta \u001b[36m0:00:00\u001b[0m\r\n",
      "\u001b[?25hInstalling collected packages: feature_engine\r\n",
      "Successfully installed feature_engine-1.6.2\r\n"
     ]
    }
   ],
   "source": [
    "#install libraries\n",
    "!pip install feature_engine"
   ]
  },
  {
   "cell_type": "code",
   "execution_count": 2,
   "id": "4b8234c6",
   "metadata": {
    "execution": {
     "iopub.execute_input": "2023-12-29T07:15:50.914389Z",
     "iopub.status.busy": "2023-12-29T07:15:50.914030Z",
     "iopub.status.idle": "2023-12-29T07:15:52.395386Z",
     "shell.execute_reply": "2023-12-29T07:15:52.393879Z"
    },
    "papermill": {
     "duration": 1.503405,
     "end_time": "2023-12-29T07:15:52.398061",
     "exception": false,
     "start_time": "2023-12-29T07:15:50.894656",
     "status": "completed"
    },
    "tags": []
   },
   "outputs": [],
   "source": [
    "import pandas as pd\n",
    "import numpy as np\n",
    "import seaborn as sns\n",
    "import matplotlib.pyplot as plt\n",
    "\n",
    "#library to turn of warnings\n",
    "from warnings import filterwarnings\n",
    "filterwarnings('ignore')"
   ]
  },
  {
   "cell_type": "markdown",
   "id": "1bb32680",
   "metadata": {
    "papermill": {
     "duration": 0.016626,
     "end_time": "2023-12-29T07:15:52.431802",
     "exception": false,
     "start_time": "2023-12-29T07:15:52.415176",
     "status": "completed"
    },
    "tags": []
   },
   "source": [
    "#### The goal of this analysis, is to make a model that can accurately predicts the sale price of houses, given it's features."
   ]
  },
  {
   "cell_type": "code",
   "execution_count": 3,
   "id": "a611ae04",
   "metadata": {
    "execution": {
     "iopub.execute_input": "2023-12-29T07:15:52.467442Z",
     "iopub.status.busy": "2023-12-29T07:15:52.466945Z",
     "iopub.status.idle": "2023-12-29T07:15:52.506230Z",
     "shell.execute_reply": "2023-12-29T07:15:52.505163Z"
    },
    "papermill": {
     "duration": 0.059783,
     "end_time": "2023-12-29T07:15:52.508517",
     "exception": false,
     "start_time": "2023-12-29T07:15:52.448734",
     "status": "completed"
    },
    "tags": []
   },
   "outputs": [],
   "source": [
    "train_set = pd.read_csv(\"/kaggle/input/house-prices-advanced-regression-techniques/train.csv\")"
   ]
  },
  {
   "cell_type": "code",
   "execution_count": 4,
   "id": "3c453d1b",
   "metadata": {
    "execution": {
     "iopub.execute_input": "2023-12-29T07:15:52.543875Z",
     "iopub.status.busy": "2023-12-29T07:15:52.543522Z",
     "iopub.status.idle": "2023-12-29T07:15:52.576843Z",
     "shell.execute_reply": "2023-12-29T07:15:52.576195Z"
    },
    "papermill": {
     "duration": 0.053074,
     "end_time": "2023-12-29T07:15:52.578570",
     "exception": false,
     "start_time": "2023-12-29T07:15:52.525496",
     "status": "completed"
    },
    "tags": []
   },
   "outputs": [
    {
     "data": {
      "text/html": [
       "<div>\n",
       "<style scoped>\n",
       "    .dataframe tbody tr th:only-of-type {\n",
       "        vertical-align: middle;\n",
       "    }\n",
       "\n",
       "    .dataframe tbody tr th {\n",
       "        vertical-align: top;\n",
       "    }\n",
       "\n",
       "    .dataframe thead th {\n",
       "        text-align: right;\n",
       "    }\n",
       "</style>\n",
       "<table border=\"1\" class=\"dataframe\">\n",
       "  <thead>\n",
       "    <tr style=\"text-align: right;\">\n",
       "      <th></th>\n",
       "      <th>Id</th>\n",
       "      <th>MSSubClass</th>\n",
       "      <th>MSZoning</th>\n",
       "      <th>LotFrontage</th>\n",
       "      <th>LotArea</th>\n",
       "      <th>Street</th>\n",
       "      <th>Alley</th>\n",
       "      <th>LotShape</th>\n",
       "      <th>LandContour</th>\n",
       "      <th>Utilities</th>\n",
       "      <th>...</th>\n",
       "      <th>PoolArea</th>\n",
       "      <th>PoolQC</th>\n",
       "      <th>Fence</th>\n",
       "      <th>MiscFeature</th>\n",
       "      <th>MiscVal</th>\n",
       "      <th>MoSold</th>\n",
       "      <th>YrSold</th>\n",
       "      <th>SaleType</th>\n",
       "      <th>SaleCondition</th>\n",
       "      <th>SalePrice</th>\n",
       "    </tr>\n",
       "  </thead>\n",
       "  <tbody>\n",
       "    <tr>\n",
       "      <th>0</th>\n",
       "      <td>1</td>\n",
       "      <td>60</td>\n",
       "      <td>RL</td>\n",
       "      <td>65.0</td>\n",
       "      <td>8450</td>\n",
       "      <td>Pave</td>\n",
       "      <td>NaN</td>\n",
       "      <td>Reg</td>\n",
       "      <td>Lvl</td>\n",
       "      <td>AllPub</td>\n",
       "      <td>...</td>\n",
       "      <td>0</td>\n",
       "      <td>NaN</td>\n",
       "      <td>NaN</td>\n",
       "      <td>NaN</td>\n",
       "      <td>0</td>\n",
       "      <td>2</td>\n",
       "      <td>2008</td>\n",
       "      <td>WD</td>\n",
       "      <td>Normal</td>\n",
       "      <td>208500</td>\n",
       "    </tr>\n",
       "    <tr>\n",
       "      <th>1</th>\n",
       "      <td>2</td>\n",
       "      <td>20</td>\n",
       "      <td>RL</td>\n",
       "      <td>80.0</td>\n",
       "      <td>9600</td>\n",
       "      <td>Pave</td>\n",
       "      <td>NaN</td>\n",
       "      <td>Reg</td>\n",
       "      <td>Lvl</td>\n",
       "      <td>AllPub</td>\n",
       "      <td>...</td>\n",
       "      <td>0</td>\n",
       "      <td>NaN</td>\n",
       "      <td>NaN</td>\n",
       "      <td>NaN</td>\n",
       "      <td>0</td>\n",
       "      <td>5</td>\n",
       "      <td>2007</td>\n",
       "      <td>WD</td>\n",
       "      <td>Normal</td>\n",
       "      <td>181500</td>\n",
       "    </tr>\n",
       "    <tr>\n",
       "      <th>2</th>\n",
       "      <td>3</td>\n",
       "      <td>60</td>\n",
       "      <td>RL</td>\n",
       "      <td>68.0</td>\n",
       "      <td>11250</td>\n",
       "      <td>Pave</td>\n",
       "      <td>NaN</td>\n",
       "      <td>IR1</td>\n",
       "      <td>Lvl</td>\n",
       "      <td>AllPub</td>\n",
       "      <td>...</td>\n",
       "      <td>0</td>\n",
       "      <td>NaN</td>\n",
       "      <td>NaN</td>\n",
       "      <td>NaN</td>\n",
       "      <td>0</td>\n",
       "      <td>9</td>\n",
       "      <td>2008</td>\n",
       "      <td>WD</td>\n",
       "      <td>Normal</td>\n",
       "      <td>223500</td>\n",
       "    </tr>\n",
       "    <tr>\n",
       "      <th>3</th>\n",
       "      <td>4</td>\n",
       "      <td>70</td>\n",
       "      <td>RL</td>\n",
       "      <td>60.0</td>\n",
       "      <td>9550</td>\n",
       "      <td>Pave</td>\n",
       "      <td>NaN</td>\n",
       "      <td>IR1</td>\n",
       "      <td>Lvl</td>\n",
       "      <td>AllPub</td>\n",
       "      <td>...</td>\n",
       "      <td>0</td>\n",
       "      <td>NaN</td>\n",
       "      <td>NaN</td>\n",
       "      <td>NaN</td>\n",
       "      <td>0</td>\n",
       "      <td>2</td>\n",
       "      <td>2006</td>\n",
       "      <td>WD</td>\n",
       "      <td>Abnorml</td>\n",
       "      <td>140000</td>\n",
       "    </tr>\n",
       "    <tr>\n",
       "      <th>4</th>\n",
       "      <td>5</td>\n",
       "      <td>60</td>\n",
       "      <td>RL</td>\n",
       "      <td>84.0</td>\n",
       "      <td>14260</td>\n",
       "      <td>Pave</td>\n",
       "      <td>NaN</td>\n",
       "      <td>IR1</td>\n",
       "      <td>Lvl</td>\n",
       "      <td>AllPub</td>\n",
       "      <td>...</td>\n",
       "      <td>0</td>\n",
       "      <td>NaN</td>\n",
       "      <td>NaN</td>\n",
       "      <td>NaN</td>\n",
       "      <td>0</td>\n",
       "      <td>12</td>\n",
       "      <td>2008</td>\n",
       "      <td>WD</td>\n",
       "      <td>Normal</td>\n",
       "      <td>250000</td>\n",
       "    </tr>\n",
       "  </tbody>\n",
       "</table>\n",
       "<p>5 rows × 81 columns</p>\n",
       "</div>"
      ],
      "text/plain": [
       "   Id  MSSubClass MSZoning  LotFrontage  LotArea Street Alley LotShape  \\\n",
       "0   1          60       RL         65.0     8450   Pave   NaN      Reg   \n",
       "1   2          20       RL         80.0     9600   Pave   NaN      Reg   \n",
       "2   3          60       RL         68.0    11250   Pave   NaN      IR1   \n",
       "3   4          70       RL         60.0     9550   Pave   NaN      IR1   \n",
       "4   5          60       RL         84.0    14260   Pave   NaN      IR1   \n",
       "\n",
       "  LandContour Utilities  ... PoolArea PoolQC Fence MiscFeature MiscVal MoSold  \\\n",
       "0         Lvl    AllPub  ...        0    NaN   NaN         NaN       0      2   \n",
       "1         Lvl    AllPub  ...        0    NaN   NaN         NaN       0      5   \n",
       "2         Lvl    AllPub  ...        0    NaN   NaN         NaN       0      9   \n",
       "3         Lvl    AllPub  ...        0    NaN   NaN         NaN       0      2   \n",
       "4         Lvl    AllPub  ...        0    NaN   NaN         NaN       0     12   \n",
       "\n",
       "  YrSold  SaleType  SaleCondition  SalePrice  \n",
       "0   2008        WD         Normal     208500  \n",
       "1   2007        WD         Normal     181500  \n",
       "2   2008        WD         Normal     223500  \n",
       "3   2006        WD        Abnorml     140000  \n",
       "4   2008        WD         Normal     250000  \n",
       "\n",
       "[5 rows x 81 columns]"
      ]
     },
     "execution_count": 4,
     "metadata": {},
     "output_type": "execute_result"
    }
   ],
   "source": [
    "#let's change the train_set name to 'df' to ease us in calling the train set (it's better than typing 'train_set' all the time)\n",
    "df = train_set.copy()\n",
    "df.head()"
   ]
  },
  {
   "cell_type": "code",
   "execution_count": 5,
   "id": "99835b62",
   "metadata": {
    "execution": {
     "iopub.execute_input": "2023-12-29T07:15:52.666386Z",
     "iopub.status.busy": "2023-12-29T07:15:52.665984Z",
     "iopub.status.idle": "2023-12-29T07:15:52.690299Z",
     "shell.execute_reply": "2023-12-29T07:15:52.689050Z"
    },
    "papermill": {
     "duration": 0.045197,
     "end_time": "2023-12-29T07:15:52.692365",
     "exception": false,
     "start_time": "2023-12-29T07:15:52.647168",
     "status": "completed"
    },
    "tags": []
   },
   "outputs": [
    {
     "data": {
      "text/html": [
       "<div>\n",
       "<style scoped>\n",
       "    .dataframe tbody tr th:only-of-type {\n",
       "        vertical-align: middle;\n",
       "    }\n",
       "\n",
       "    .dataframe tbody tr th {\n",
       "        vertical-align: top;\n",
       "    }\n",
       "\n",
       "    .dataframe thead th {\n",
       "        text-align: right;\n",
       "    }\n",
       "</style>\n",
       "<table border=\"1\" class=\"dataframe\">\n",
       "  <thead>\n",
       "    <tr style=\"text-align: right;\">\n",
       "      <th></th>\n",
       "      <th>MSSubClass</th>\n",
       "      <th>MSZoning</th>\n",
       "      <th>LotFrontage</th>\n",
       "      <th>LotArea</th>\n",
       "      <th>Street</th>\n",
       "      <th>Alley</th>\n",
       "      <th>LotShape</th>\n",
       "      <th>LandContour</th>\n",
       "      <th>Utilities</th>\n",
       "      <th>LotConfig</th>\n",
       "      <th>...</th>\n",
       "      <th>PoolArea</th>\n",
       "      <th>PoolQC</th>\n",
       "      <th>Fence</th>\n",
       "      <th>MiscFeature</th>\n",
       "      <th>MiscVal</th>\n",
       "      <th>MoSold</th>\n",
       "      <th>YrSold</th>\n",
       "      <th>SaleType</th>\n",
       "      <th>SaleCondition</th>\n",
       "      <th>SalePrice</th>\n",
       "    </tr>\n",
       "  </thead>\n",
       "  <tbody>\n",
       "    <tr>\n",
       "      <th>0</th>\n",
       "      <td>60</td>\n",
       "      <td>RL</td>\n",
       "      <td>65.0</td>\n",
       "      <td>8450</td>\n",
       "      <td>Pave</td>\n",
       "      <td>NaN</td>\n",
       "      <td>Reg</td>\n",
       "      <td>Lvl</td>\n",
       "      <td>AllPub</td>\n",
       "      <td>Inside</td>\n",
       "      <td>...</td>\n",
       "      <td>0</td>\n",
       "      <td>NaN</td>\n",
       "      <td>NaN</td>\n",
       "      <td>NaN</td>\n",
       "      <td>0</td>\n",
       "      <td>2</td>\n",
       "      <td>2008</td>\n",
       "      <td>WD</td>\n",
       "      <td>Normal</td>\n",
       "      <td>208500</td>\n",
       "    </tr>\n",
       "    <tr>\n",
       "      <th>1</th>\n",
       "      <td>20</td>\n",
       "      <td>RL</td>\n",
       "      <td>80.0</td>\n",
       "      <td>9600</td>\n",
       "      <td>Pave</td>\n",
       "      <td>NaN</td>\n",
       "      <td>Reg</td>\n",
       "      <td>Lvl</td>\n",
       "      <td>AllPub</td>\n",
       "      <td>FR2</td>\n",
       "      <td>...</td>\n",
       "      <td>0</td>\n",
       "      <td>NaN</td>\n",
       "      <td>NaN</td>\n",
       "      <td>NaN</td>\n",
       "      <td>0</td>\n",
       "      <td>5</td>\n",
       "      <td>2007</td>\n",
       "      <td>WD</td>\n",
       "      <td>Normal</td>\n",
       "      <td>181500</td>\n",
       "    </tr>\n",
       "    <tr>\n",
       "      <th>2</th>\n",
       "      <td>60</td>\n",
       "      <td>RL</td>\n",
       "      <td>68.0</td>\n",
       "      <td>11250</td>\n",
       "      <td>Pave</td>\n",
       "      <td>NaN</td>\n",
       "      <td>IR1</td>\n",
       "      <td>Lvl</td>\n",
       "      <td>AllPub</td>\n",
       "      <td>Inside</td>\n",
       "      <td>...</td>\n",
       "      <td>0</td>\n",
       "      <td>NaN</td>\n",
       "      <td>NaN</td>\n",
       "      <td>NaN</td>\n",
       "      <td>0</td>\n",
       "      <td>9</td>\n",
       "      <td>2008</td>\n",
       "      <td>WD</td>\n",
       "      <td>Normal</td>\n",
       "      <td>223500</td>\n",
       "    </tr>\n",
       "    <tr>\n",
       "      <th>3</th>\n",
       "      <td>70</td>\n",
       "      <td>RL</td>\n",
       "      <td>60.0</td>\n",
       "      <td>9550</td>\n",
       "      <td>Pave</td>\n",
       "      <td>NaN</td>\n",
       "      <td>IR1</td>\n",
       "      <td>Lvl</td>\n",
       "      <td>AllPub</td>\n",
       "      <td>Corner</td>\n",
       "      <td>...</td>\n",
       "      <td>0</td>\n",
       "      <td>NaN</td>\n",
       "      <td>NaN</td>\n",
       "      <td>NaN</td>\n",
       "      <td>0</td>\n",
       "      <td>2</td>\n",
       "      <td>2006</td>\n",
       "      <td>WD</td>\n",
       "      <td>Abnorml</td>\n",
       "      <td>140000</td>\n",
       "    </tr>\n",
       "    <tr>\n",
       "      <th>4</th>\n",
       "      <td>60</td>\n",
       "      <td>RL</td>\n",
       "      <td>84.0</td>\n",
       "      <td>14260</td>\n",
       "      <td>Pave</td>\n",
       "      <td>NaN</td>\n",
       "      <td>IR1</td>\n",
       "      <td>Lvl</td>\n",
       "      <td>AllPub</td>\n",
       "      <td>FR2</td>\n",
       "      <td>...</td>\n",
       "      <td>0</td>\n",
       "      <td>NaN</td>\n",
       "      <td>NaN</td>\n",
       "      <td>NaN</td>\n",
       "      <td>0</td>\n",
       "      <td>12</td>\n",
       "      <td>2008</td>\n",
       "      <td>WD</td>\n",
       "      <td>Normal</td>\n",
       "      <td>250000</td>\n",
       "    </tr>\n",
       "  </tbody>\n",
       "</table>\n",
       "<p>5 rows × 80 columns</p>\n",
       "</div>"
      ],
      "text/plain": [
       "   MSSubClass MSZoning  LotFrontage  LotArea Street Alley LotShape  \\\n",
       "0          60       RL         65.0     8450   Pave   NaN      Reg   \n",
       "1          20       RL         80.0     9600   Pave   NaN      Reg   \n",
       "2          60       RL         68.0    11250   Pave   NaN      IR1   \n",
       "3          70       RL         60.0     9550   Pave   NaN      IR1   \n",
       "4          60       RL         84.0    14260   Pave   NaN      IR1   \n",
       "\n",
       "  LandContour Utilities LotConfig  ... PoolArea PoolQC Fence MiscFeature  \\\n",
       "0         Lvl    AllPub    Inside  ...        0    NaN   NaN         NaN   \n",
       "1         Lvl    AllPub       FR2  ...        0    NaN   NaN         NaN   \n",
       "2         Lvl    AllPub    Inside  ...        0    NaN   NaN         NaN   \n",
       "3         Lvl    AllPub    Corner  ...        0    NaN   NaN         NaN   \n",
       "4         Lvl    AllPub       FR2  ...        0    NaN   NaN         NaN   \n",
       "\n",
       "  MiscVal MoSold  YrSold  SaleType  SaleCondition  SalePrice  \n",
       "0       0      2    2008        WD         Normal     208500  \n",
       "1       0      5    2007        WD         Normal     181500  \n",
       "2       0      9    2008        WD         Normal     223500  \n",
       "3       0      2    2006        WD        Abnorml     140000  \n",
       "4       0     12    2008        WD         Normal     250000  \n",
       "\n",
       "[5 rows x 80 columns]"
      ]
     },
     "execution_count": 5,
     "metadata": {},
     "output_type": "execute_result"
    }
   ],
   "source": [
    "#let's drop the 'id' column since it doesn't contains any information \n",
    "df.drop('Id', axis = 1, inplace = True)\n",
    "df.head()"
   ]
  },
  {
   "cell_type": "markdown",
   "id": "493f35b4",
   "metadata": {
    "papermill": {
     "duration": 0.018389,
     "end_time": "2023-12-29T07:15:52.728744",
     "exception": false,
     "start_time": "2023-12-29T07:15:52.710355",
     "status": "completed"
    },
    "tags": []
   },
   "source": [
    "# EDA + Preprocessing"
   ]
  },
  {
   "cell_type": "code",
   "execution_count": 6,
   "id": "355c8ca7",
   "metadata": {
    "execution": {
     "iopub.execute_input": "2023-12-29T07:15:52.766903Z",
     "iopub.status.busy": "2023-12-29T07:15:52.765799Z",
     "iopub.status.idle": "2023-12-29T07:15:52.772069Z",
     "shell.execute_reply": "2023-12-29T07:15:52.771248Z"
    },
    "papermill": {
     "duration": 0.027003,
     "end_time": "2023-12-29T07:15:52.773957",
     "exception": false,
     "start_time": "2023-12-29T07:15:52.746954",
     "status": "completed"
    },
    "tags": []
   },
   "outputs": [
    {
     "data": {
      "text/plain": [
       "(1460, 80)"
      ]
     },
     "execution_count": 6,
     "metadata": {},
     "output_type": "execute_result"
    }
   ],
   "source": [
    "#check the shape/dimension of our dataset\n",
    "df.shape"
   ]
  },
  {
   "cell_type": "code",
   "execution_count": 7,
   "id": "14149a86",
   "metadata": {
    "execution": {
     "iopub.execute_input": "2023-12-29T07:15:52.811835Z",
     "iopub.status.busy": "2023-12-29T07:15:52.811377Z",
     "iopub.status.idle": "2023-12-29T07:15:52.818081Z",
     "shell.execute_reply": "2023-12-29T07:15:52.817269Z"
    },
    "papermill": {
     "duration": 0.027724,
     "end_time": "2023-12-29T07:15:52.819765",
     "exception": false,
     "start_time": "2023-12-29T07:15:52.792041",
     "status": "completed"
    },
    "tags": []
   },
   "outputs": [
    {
     "data": {
      "text/plain": [
       "MSSubClass         int64\n",
       "MSZoning          object\n",
       "LotFrontage      float64\n",
       "LotArea            int64\n",
       "Street            object\n",
       "                  ...   \n",
       "MoSold             int64\n",
       "YrSold             int64\n",
       "SaleType          object\n",
       "SaleCondition     object\n",
       "SalePrice          int64\n",
       "Length: 80, dtype: object"
      ]
     },
     "execution_count": 7,
     "metadata": {},
     "output_type": "execute_result"
    }
   ],
   "source": [
    "#check the dtypes of our dataset\n",
    "df.dtypes"
   ]
  },
  {
   "cell_type": "code",
   "execution_count": 8,
   "id": "65b80e6b",
   "metadata": {
    "execution": {
     "iopub.execute_input": "2023-12-29T07:15:52.857070Z",
     "iopub.status.busy": "2023-12-29T07:15:52.856606Z",
     "iopub.status.idle": "2023-12-29T07:15:52.861006Z",
     "shell.execute_reply": "2023-12-29T07:15:52.859995Z"
    },
    "papermill": {
     "duration": 0.025627,
     "end_time": "2023-12-29T07:15:52.863284",
     "exception": false,
     "start_time": "2023-12-29T07:15:52.837657",
     "status": "completed"
    },
    "tags": []
   },
   "outputs": [],
   "source": [
    "#run this cell so we can see all the rows, that are changed to '. . .' in jupyter notebook, due to the printing limitation \n",
    "pd.set_option('display.max_columns', None)\n",
    "pd.set_option('display.max_rows', None)"
   ]
  },
  {
   "cell_type": "code",
   "execution_count": 9,
   "id": "d12b8299",
   "metadata": {
    "execution": {
     "iopub.execute_input": "2023-12-29T07:15:52.901463Z",
     "iopub.status.busy": "2023-12-29T07:15:52.900733Z",
     "iopub.status.idle": "2023-12-29T07:15:52.908381Z",
     "shell.execute_reply": "2023-12-29T07:15:52.907525Z"
    },
    "papermill": {
     "duration": 0.02855,
     "end_time": "2023-12-29T07:15:52.910074",
     "exception": false,
     "start_time": "2023-12-29T07:15:52.881524",
     "status": "completed"
    },
    "tags": []
   },
   "outputs": [
    {
     "data": {
      "text/plain": [
       "MSSubClass         int64\n",
       "MSZoning          object\n",
       "LotFrontage      float64\n",
       "LotArea            int64\n",
       "Street            object\n",
       "Alley             object\n",
       "LotShape          object\n",
       "LandContour       object\n",
       "Utilities         object\n",
       "LotConfig         object\n",
       "LandSlope         object\n",
       "Neighborhood      object\n",
       "Condition1        object\n",
       "Condition2        object\n",
       "BldgType          object\n",
       "HouseStyle        object\n",
       "OverallQual        int64\n",
       "OverallCond        int64\n",
       "YearBuilt          int64\n",
       "YearRemodAdd       int64\n",
       "RoofStyle         object\n",
       "RoofMatl          object\n",
       "Exterior1st       object\n",
       "Exterior2nd       object\n",
       "MasVnrType        object\n",
       "MasVnrArea       float64\n",
       "ExterQual         object\n",
       "ExterCond         object\n",
       "Foundation        object\n",
       "BsmtQual          object\n",
       "BsmtCond          object\n",
       "BsmtExposure      object\n",
       "BsmtFinType1      object\n",
       "BsmtFinSF1         int64\n",
       "BsmtFinType2      object\n",
       "BsmtFinSF2         int64\n",
       "BsmtUnfSF          int64\n",
       "TotalBsmtSF        int64\n",
       "Heating           object\n",
       "HeatingQC         object\n",
       "CentralAir        object\n",
       "Electrical        object\n",
       "1stFlrSF           int64\n",
       "2ndFlrSF           int64\n",
       "LowQualFinSF       int64\n",
       "GrLivArea          int64\n",
       "BsmtFullBath       int64\n",
       "BsmtHalfBath       int64\n",
       "FullBath           int64\n",
       "HalfBath           int64\n",
       "BedroomAbvGr       int64\n",
       "KitchenAbvGr       int64\n",
       "KitchenQual       object\n",
       "TotRmsAbvGrd       int64\n",
       "Functional        object\n",
       "Fireplaces         int64\n",
       "FireplaceQu       object\n",
       "GarageType        object\n",
       "GarageYrBlt      float64\n",
       "GarageFinish      object\n",
       "GarageCars         int64\n",
       "GarageArea         int64\n",
       "GarageQual        object\n",
       "GarageCond        object\n",
       "PavedDrive        object\n",
       "WoodDeckSF         int64\n",
       "OpenPorchSF        int64\n",
       "EnclosedPorch      int64\n",
       "3SsnPorch          int64\n",
       "ScreenPorch        int64\n",
       "PoolArea           int64\n",
       "PoolQC            object\n",
       "Fence             object\n",
       "MiscFeature       object\n",
       "MiscVal            int64\n",
       "MoSold             int64\n",
       "YrSold             int64\n",
       "SaleType          object\n",
       "SaleCondition     object\n",
       "SalePrice          int64\n",
       "dtype: object"
      ]
     },
     "execution_count": 9,
     "metadata": {},
     "output_type": "execute_result"
    }
   ],
   "source": [
    "#check the dtypes again of our dataset\n",
    "df.dtypes"
   ]
  },
  {
   "cell_type": "code",
   "execution_count": 10,
   "id": "a5a1f43d",
   "metadata": {
    "execution": {
     "iopub.execute_input": "2023-12-29T07:15:52.948411Z",
     "iopub.status.busy": "2023-12-29T07:15:52.947901Z",
     "iopub.status.idle": "2023-12-29T07:15:53.107089Z",
     "shell.execute_reply": "2023-12-29T07:15:53.106009Z"
    },
    "papermill": {
     "duration": 0.181061,
     "end_time": "2023-12-29T07:15:53.109550",
     "exception": false,
     "start_time": "2023-12-29T07:15:52.928489",
     "status": "completed"
    },
    "tags": []
   },
   "outputs": [
    {
     "data": {
      "text/html": [
       "<div>\n",
       "<style scoped>\n",
       "    .dataframe tbody tr th:only-of-type {\n",
       "        vertical-align: middle;\n",
       "    }\n",
       "\n",
       "    .dataframe tbody tr th {\n",
       "        vertical-align: top;\n",
       "    }\n",
       "\n",
       "    .dataframe thead th {\n",
       "        text-align: right;\n",
       "    }\n",
       "</style>\n",
       "<table border=\"1\" class=\"dataframe\">\n",
       "  <thead>\n",
       "    <tr style=\"text-align: right;\">\n",
       "      <th></th>\n",
       "      <th>count</th>\n",
       "      <th>mean</th>\n",
       "      <th>std</th>\n",
       "      <th>min</th>\n",
       "      <th>25%</th>\n",
       "      <th>50%</th>\n",
       "      <th>75%</th>\n",
       "      <th>max</th>\n",
       "    </tr>\n",
       "  </thead>\n",
       "  <tbody>\n",
       "    <tr>\n",
       "      <th>MSSubClass</th>\n",
       "      <td>1460.0</td>\n",
       "      <td>56.897260</td>\n",
       "      <td>42.300571</td>\n",
       "      <td>20.0</td>\n",
       "      <td>20.00</td>\n",
       "      <td>50.0</td>\n",
       "      <td>70.00</td>\n",
       "      <td>190.0</td>\n",
       "    </tr>\n",
       "    <tr>\n",
       "      <th>LotFrontage</th>\n",
       "      <td>1201.0</td>\n",
       "      <td>70.049958</td>\n",
       "      <td>24.284752</td>\n",
       "      <td>21.0</td>\n",
       "      <td>59.00</td>\n",
       "      <td>69.0</td>\n",
       "      <td>80.00</td>\n",
       "      <td>313.0</td>\n",
       "    </tr>\n",
       "    <tr>\n",
       "      <th>LotArea</th>\n",
       "      <td>1460.0</td>\n",
       "      <td>10516.828082</td>\n",
       "      <td>9981.264932</td>\n",
       "      <td>1300.0</td>\n",
       "      <td>7553.50</td>\n",
       "      <td>9478.5</td>\n",
       "      <td>11601.50</td>\n",
       "      <td>215245.0</td>\n",
       "    </tr>\n",
       "    <tr>\n",
       "      <th>OverallQual</th>\n",
       "      <td>1460.0</td>\n",
       "      <td>6.099315</td>\n",
       "      <td>1.382997</td>\n",
       "      <td>1.0</td>\n",
       "      <td>5.00</td>\n",
       "      <td>6.0</td>\n",
       "      <td>7.00</td>\n",
       "      <td>10.0</td>\n",
       "    </tr>\n",
       "    <tr>\n",
       "      <th>OverallCond</th>\n",
       "      <td>1460.0</td>\n",
       "      <td>5.575342</td>\n",
       "      <td>1.112799</td>\n",
       "      <td>1.0</td>\n",
       "      <td>5.00</td>\n",
       "      <td>5.0</td>\n",
       "      <td>6.00</td>\n",
       "      <td>9.0</td>\n",
       "    </tr>\n",
       "    <tr>\n",
       "      <th>YearBuilt</th>\n",
       "      <td>1460.0</td>\n",
       "      <td>1971.267808</td>\n",
       "      <td>30.202904</td>\n",
       "      <td>1872.0</td>\n",
       "      <td>1954.00</td>\n",
       "      <td>1973.0</td>\n",
       "      <td>2000.00</td>\n",
       "      <td>2010.0</td>\n",
       "    </tr>\n",
       "    <tr>\n",
       "      <th>YearRemodAdd</th>\n",
       "      <td>1460.0</td>\n",
       "      <td>1984.865753</td>\n",
       "      <td>20.645407</td>\n",
       "      <td>1950.0</td>\n",
       "      <td>1967.00</td>\n",
       "      <td>1994.0</td>\n",
       "      <td>2004.00</td>\n",
       "      <td>2010.0</td>\n",
       "    </tr>\n",
       "    <tr>\n",
       "      <th>MasVnrArea</th>\n",
       "      <td>1452.0</td>\n",
       "      <td>103.685262</td>\n",
       "      <td>181.066207</td>\n",
       "      <td>0.0</td>\n",
       "      <td>0.00</td>\n",
       "      <td>0.0</td>\n",
       "      <td>166.00</td>\n",
       "      <td>1600.0</td>\n",
       "    </tr>\n",
       "    <tr>\n",
       "      <th>BsmtFinSF1</th>\n",
       "      <td>1460.0</td>\n",
       "      <td>443.639726</td>\n",
       "      <td>456.098091</td>\n",
       "      <td>0.0</td>\n",
       "      <td>0.00</td>\n",
       "      <td>383.5</td>\n",
       "      <td>712.25</td>\n",
       "      <td>5644.0</td>\n",
       "    </tr>\n",
       "    <tr>\n",
       "      <th>BsmtFinSF2</th>\n",
       "      <td>1460.0</td>\n",
       "      <td>46.549315</td>\n",
       "      <td>161.319273</td>\n",
       "      <td>0.0</td>\n",
       "      <td>0.00</td>\n",
       "      <td>0.0</td>\n",
       "      <td>0.00</td>\n",
       "      <td>1474.0</td>\n",
       "    </tr>\n",
       "    <tr>\n",
       "      <th>BsmtUnfSF</th>\n",
       "      <td>1460.0</td>\n",
       "      <td>567.240411</td>\n",
       "      <td>441.866955</td>\n",
       "      <td>0.0</td>\n",
       "      <td>223.00</td>\n",
       "      <td>477.5</td>\n",
       "      <td>808.00</td>\n",
       "      <td>2336.0</td>\n",
       "    </tr>\n",
       "    <tr>\n",
       "      <th>TotalBsmtSF</th>\n",
       "      <td>1460.0</td>\n",
       "      <td>1057.429452</td>\n",
       "      <td>438.705324</td>\n",
       "      <td>0.0</td>\n",
       "      <td>795.75</td>\n",
       "      <td>991.5</td>\n",
       "      <td>1298.25</td>\n",
       "      <td>6110.0</td>\n",
       "    </tr>\n",
       "    <tr>\n",
       "      <th>1stFlrSF</th>\n",
       "      <td>1460.0</td>\n",
       "      <td>1162.626712</td>\n",
       "      <td>386.587738</td>\n",
       "      <td>334.0</td>\n",
       "      <td>882.00</td>\n",
       "      <td>1087.0</td>\n",
       "      <td>1391.25</td>\n",
       "      <td>4692.0</td>\n",
       "    </tr>\n",
       "    <tr>\n",
       "      <th>2ndFlrSF</th>\n",
       "      <td>1460.0</td>\n",
       "      <td>346.992466</td>\n",
       "      <td>436.528436</td>\n",
       "      <td>0.0</td>\n",
       "      <td>0.00</td>\n",
       "      <td>0.0</td>\n",
       "      <td>728.00</td>\n",
       "      <td>2065.0</td>\n",
       "    </tr>\n",
       "    <tr>\n",
       "      <th>LowQualFinSF</th>\n",
       "      <td>1460.0</td>\n",
       "      <td>5.844521</td>\n",
       "      <td>48.623081</td>\n",
       "      <td>0.0</td>\n",
       "      <td>0.00</td>\n",
       "      <td>0.0</td>\n",
       "      <td>0.00</td>\n",
       "      <td>572.0</td>\n",
       "    </tr>\n",
       "    <tr>\n",
       "      <th>GrLivArea</th>\n",
       "      <td>1460.0</td>\n",
       "      <td>1515.463699</td>\n",
       "      <td>525.480383</td>\n",
       "      <td>334.0</td>\n",
       "      <td>1129.50</td>\n",
       "      <td>1464.0</td>\n",
       "      <td>1776.75</td>\n",
       "      <td>5642.0</td>\n",
       "    </tr>\n",
       "    <tr>\n",
       "      <th>BsmtFullBath</th>\n",
       "      <td>1460.0</td>\n",
       "      <td>0.425342</td>\n",
       "      <td>0.518911</td>\n",
       "      <td>0.0</td>\n",
       "      <td>0.00</td>\n",
       "      <td>0.0</td>\n",
       "      <td>1.00</td>\n",
       "      <td>3.0</td>\n",
       "    </tr>\n",
       "    <tr>\n",
       "      <th>BsmtHalfBath</th>\n",
       "      <td>1460.0</td>\n",
       "      <td>0.057534</td>\n",
       "      <td>0.238753</td>\n",
       "      <td>0.0</td>\n",
       "      <td>0.00</td>\n",
       "      <td>0.0</td>\n",
       "      <td>0.00</td>\n",
       "      <td>2.0</td>\n",
       "    </tr>\n",
       "    <tr>\n",
       "      <th>FullBath</th>\n",
       "      <td>1460.0</td>\n",
       "      <td>1.565068</td>\n",
       "      <td>0.550916</td>\n",
       "      <td>0.0</td>\n",
       "      <td>1.00</td>\n",
       "      <td>2.0</td>\n",
       "      <td>2.00</td>\n",
       "      <td>3.0</td>\n",
       "    </tr>\n",
       "    <tr>\n",
       "      <th>HalfBath</th>\n",
       "      <td>1460.0</td>\n",
       "      <td>0.382877</td>\n",
       "      <td>0.502885</td>\n",
       "      <td>0.0</td>\n",
       "      <td>0.00</td>\n",
       "      <td>0.0</td>\n",
       "      <td>1.00</td>\n",
       "      <td>2.0</td>\n",
       "    </tr>\n",
       "    <tr>\n",
       "      <th>BedroomAbvGr</th>\n",
       "      <td>1460.0</td>\n",
       "      <td>2.866438</td>\n",
       "      <td>0.815778</td>\n",
       "      <td>0.0</td>\n",
       "      <td>2.00</td>\n",
       "      <td>3.0</td>\n",
       "      <td>3.00</td>\n",
       "      <td>8.0</td>\n",
       "    </tr>\n",
       "    <tr>\n",
       "      <th>KitchenAbvGr</th>\n",
       "      <td>1460.0</td>\n",
       "      <td>1.046575</td>\n",
       "      <td>0.220338</td>\n",
       "      <td>0.0</td>\n",
       "      <td>1.00</td>\n",
       "      <td>1.0</td>\n",
       "      <td>1.00</td>\n",
       "      <td>3.0</td>\n",
       "    </tr>\n",
       "    <tr>\n",
       "      <th>TotRmsAbvGrd</th>\n",
       "      <td>1460.0</td>\n",
       "      <td>6.517808</td>\n",
       "      <td>1.625393</td>\n",
       "      <td>2.0</td>\n",
       "      <td>5.00</td>\n",
       "      <td>6.0</td>\n",
       "      <td>7.00</td>\n",
       "      <td>14.0</td>\n",
       "    </tr>\n",
       "    <tr>\n",
       "      <th>Fireplaces</th>\n",
       "      <td>1460.0</td>\n",
       "      <td>0.613014</td>\n",
       "      <td>0.644666</td>\n",
       "      <td>0.0</td>\n",
       "      <td>0.00</td>\n",
       "      <td>1.0</td>\n",
       "      <td>1.00</td>\n",
       "      <td>3.0</td>\n",
       "    </tr>\n",
       "    <tr>\n",
       "      <th>GarageYrBlt</th>\n",
       "      <td>1379.0</td>\n",
       "      <td>1978.506164</td>\n",
       "      <td>24.689725</td>\n",
       "      <td>1900.0</td>\n",
       "      <td>1961.00</td>\n",
       "      <td>1980.0</td>\n",
       "      <td>2002.00</td>\n",
       "      <td>2010.0</td>\n",
       "    </tr>\n",
       "    <tr>\n",
       "      <th>GarageCars</th>\n",
       "      <td>1460.0</td>\n",
       "      <td>1.767123</td>\n",
       "      <td>0.747315</td>\n",
       "      <td>0.0</td>\n",
       "      <td>1.00</td>\n",
       "      <td>2.0</td>\n",
       "      <td>2.00</td>\n",
       "      <td>4.0</td>\n",
       "    </tr>\n",
       "    <tr>\n",
       "      <th>GarageArea</th>\n",
       "      <td>1460.0</td>\n",
       "      <td>472.980137</td>\n",
       "      <td>213.804841</td>\n",
       "      <td>0.0</td>\n",
       "      <td>334.50</td>\n",
       "      <td>480.0</td>\n",
       "      <td>576.00</td>\n",
       "      <td>1418.0</td>\n",
       "    </tr>\n",
       "    <tr>\n",
       "      <th>WoodDeckSF</th>\n",
       "      <td>1460.0</td>\n",
       "      <td>94.244521</td>\n",
       "      <td>125.338794</td>\n",
       "      <td>0.0</td>\n",
       "      <td>0.00</td>\n",
       "      <td>0.0</td>\n",
       "      <td>168.00</td>\n",
       "      <td>857.0</td>\n",
       "    </tr>\n",
       "    <tr>\n",
       "      <th>OpenPorchSF</th>\n",
       "      <td>1460.0</td>\n",
       "      <td>46.660274</td>\n",
       "      <td>66.256028</td>\n",
       "      <td>0.0</td>\n",
       "      <td>0.00</td>\n",
       "      <td>25.0</td>\n",
       "      <td>68.00</td>\n",
       "      <td>547.0</td>\n",
       "    </tr>\n",
       "    <tr>\n",
       "      <th>EnclosedPorch</th>\n",
       "      <td>1460.0</td>\n",
       "      <td>21.954110</td>\n",
       "      <td>61.119149</td>\n",
       "      <td>0.0</td>\n",
       "      <td>0.00</td>\n",
       "      <td>0.0</td>\n",
       "      <td>0.00</td>\n",
       "      <td>552.0</td>\n",
       "    </tr>\n",
       "    <tr>\n",
       "      <th>3SsnPorch</th>\n",
       "      <td>1460.0</td>\n",
       "      <td>3.409589</td>\n",
       "      <td>29.317331</td>\n",
       "      <td>0.0</td>\n",
       "      <td>0.00</td>\n",
       "      <td>0.0</td>\n",
       "      <td>0.00</td>\n",
       "      <td>508.0</td>\n",
       "    </tr>\n",
       "    <tr>\n",
       "      <th>ScreenPorch</th>\n",
       "      <td>1460.0</td>\n",
       "      <td>15.060959</td>\n",
       "      <td>55.757415</td>\n",
       "      <td>0.0</td>\n",
       "      <td>0.00</td>\n",
       "      <td>0.0</td>\n",
       "      <td>0.00</td>\n",
       "      <td>480.0</td>\n",
       "    </tr>\n",
       "    <tr>\n",
       "      <th>PoolArea</th>\n",
       "      <td>1460.0</td>\n",
       "      <td>2.758904</td>\n",
       "      <td>40.177307</td>\n",
       "      <td>0.0</td>\n",
       "      <td>0.00</td>\n",
       "      <td>0.0</td>\n",
       "      <td>0.00</td>\n",
       "      <td>738.0</td>\n",
       "    </tr>\n",
       "    <tr>\n",
       "      <th>MiscVal</th>\n",
       "      <td>1460.0</td>\n",
       "      <td>43.489041</td>\n",
       "      <td>496.123024</td>\n",
       "      <td>0.0</td>\n",
       "      <td>0.00</td>\n",
       "      <td>0.0</td>\n",
       "      <td>0.00</td>\n",
       "      <td>15500.0</td>\n",
       "    </tr>\n",
       "    <tr>\n",
       "      <th>MoSold</th>\n",
       "      <td>1460.0</td>\n",
       "      <td>6.321918</td>\n",
       "      <td>2.703626</td>\n",
       "      <td>1.0</td>\n",
       "      <td>5.00</td>\n",
       "      <td>6.0</td>\n",
       "      <td>8.00</td>\n",
       "      <td>12.0</td>\n",
       "    </tr>\n",
       "    <tr>\n",
       "      <th>YrSold</th>\n",
       "      <td>1460.0</td>\n",
       "      <td>2007.815753</td>\n",
       "      <td>1.328095</td>\n",
       "      <td>2006.0</td>\n",
       "      <td>2007.00</td>\n",
       "      <td>2008.0</td>\n",
       "      <td>2009.00</td>\n",
       "      <td>2010.0</td>\n",
       "    </tr>\n",
       "    <tr>\n",
       "      <th>SalePrice</th>\n",
       "      <td>1460.0</td>\n",
       "      <td>180921.195890</td>\n",
       "      <td>79442.502883</td>\n",
       "      <td>34900.0</td>\n",
       "      <td>129975.00</td>\n",
       "      <td>163000.0</td>\n",
       "      <td>214000.00</td>\n",
       "      <td>755000.0</td>\n",
       "    </tr>\n",
       "  </tbody>\n",
       "</table>\n",
       "</div>"
      ],
      "text/plain": [
       "                count           mean           std      min        25%  \\\n",
       "MSSubClass     1460.0      56.897260     42.300571     20.0      20.00   \n",
       "LotFrontage    1201.0      70.049958     24.284752     21.0      59.00   \n",
       "LotArea        1460.0   10516.828082   9981.264932   1300.0    7553.50   \n",
       "OverallQual    1460.0       6.099315      1.382997      1.0       5.00   \n",
       "OverallCond    1460.0       5.575342      1.112799      1.0       5.00   \n",
       "YearBuilt      1460.0    1971.267808     30.202904   1872.0    1954.00   \n",
       "YearRemodAdd   1460.0    1984.865753     20.645407   1950.0    1967.00   \n",
       "MasVnrArea     1452.0     103.685262    181.066207      0.0       0.00   \n",
       "BsmtFinSF1     1460.0     443.639726    456.098091      0.0       0.00   \n",
       "BsmtFinSF2     1460.0      46.549315    161.319273      0.0       0.00   \n",
       "BsmtUnfSF      1460.0     567.240411    441.866955      0.0     223.00   \n",
       "TotalBsmtSF    1460.0    1057.429452    438.705324      0.0     795.75   \n",
       "1stFlrSF       1460.0    1162.626712    386.587738    334.0     882.00   \n",
       "2ndFlrSF       1460.0     346.992466    436.528436      0.0       0.00   \n",
       "LowQualFinSF   1460.0       5.844521     48.623081      0.0       0.00   \n",
       "GrLivArea      1460.0    1515.463699    525.480383    334.0    1129.50   \n",
       "BsmtFullBath   1460.0       0.425342      0.518911      0.0       0.00   \n",
       "BsmtHalfBath   1460.0       0.057534      0.238753      0.0       0.00   \n",
       "FullBath       1460.0       1.565068      0.550916      0.0       1.00   \n",
       "HalfBath       1460.0       0.382877      0.502885      0.0       0.00   \n",
       "BedroomAbvGr   1460.0       2.866438      0.815778      0.0       2.00   \n",
       "KitchenAbvGr   1460.0       1.046575      0.220338      0.0       1.00   \n",
       "TotRmsAbvGrd   1460.0       6.517808      1.625393      2.0       5.00   \n",
       "Fireplaces     1460.0       0.613014      0.644666      0.0       0.00   \n",
       "GarageYrBlt    1379.0    1978.506164     24.689725   1900.0    1961.00   \n",
       "GarageCars     1460.0       1.767123      0.747315      0.0       1.00   \n",
       "GarageArea     1460.0     472.980137    213.804841      0.0     334.50   \n",
       "WoodDeckSF     1460.0      94.244521    125.338794      0.0       0.00   \n",
       "OpenPorchSF    1460.0      46.660274     66.256028      0.0       0.00   \n",
       "EnclosedPorch  1460.0      21.954110     61.119149      0.0       0.00   \n",
       "3SsnPorch      1460.0       3.409589     29.317331      0.0       0.00   \n",
       "ScreenPorch    1460.0      15.060959     55.757415      0.0       0.00   \n",
       "PoolArea       1460.0       2.758904     40.177307      0.0       0.00   \n",
       "MiscVal        1460.0      43.489041    496.123024      0.0       0.00   \n",
       "MoSold         1460.0       6.321918      2.703626      1.0       5.00   \n",
       "YrSold         1460.0    2007.815753      1.328095   2006.0    2007.00   \n",
       "SalePrice      1460.0  180921.195890  79442.502883  34900.0  129975.00   \n",
       "\n",
       "                    50%        75%       max  \n",
       "MSSubClass         50.0      70.00     190.0  \n",
       "LotFrontage        69.0      80.00     313.0  \n",
       "LotArea          9478.5   11601.50  215245.0  \n",
       "OverallQual         6.0       7.00      10.0  \n",
       "OverallCond         5.0       6.00       9.0  \n",
       "YearBuilt        1973.0    2000.00    2010.0  \n",
       "YearRemodAdd     1994.0    2004.00    2010.0  \n",
       "MasVnrArea          0.0     166.00    1600.0  \n",
       "BsmtFinSF1        383.5     712.25    5644.0  \n",
       "BsmtFinSF2          0.0       0.00    1474.0  \n",
       "BsmtUnfSF         477.5     808.00    2336.0  \n",
       "TotalBsmtSF       991.5    1298.25    6110.0  \n",
       "1stFlrSF         1087.0    1391.25    4692.0  \n",
       "2ndFlrSF            0.0     728.00    2065.0  \n",
       "LowQualFinSF        0.0       0.00     572.0  \n",
       "GrLivArea        1464.0    1776.75    5642.0  \n",
       "BsmtFullBath        0.0       1.00       3.0  \n",
       "BsmtHalfBath        0.0       0.00       2.0  \n",
       "FullBath            2.0       2.00       3.0  \n",
       "HalfBath            0.0       1.00       2.0  \n",
       "BedroomAbvGr        3.0       3.00       8.0  \n",
       "KitchenAbvGr        1.0       1.00       3.0  \n",
       "TotRmsAbvGrd        6.0       7.00      14.0  \n",
       "Fireplaces          1.0       1.00       3.0  \n",
       "GarageYrBlt      1980.0    2002.00    2010.0  \n",
       "GarageCars          2.0       2.00       4.0  \n",
       "GarageArea        480.0     576.00    1418.0  \n",
       "WoodDeckSF          0.0     168.00     857.0  \n",
       "OpenPorchSF        25.0      68.00     547.0  \n",
       "EnclosedPorch       0.0       0.00     552.0  \n",
       "3SsnPorch           0.0       0.00     508.0  \n",
       "ScreenPorch         0.0       0.00     480.0  \n",
       "PoolArea            0.0       0.00     738.0  \n",
       "MiscVal             0.0       0.00   15500.0  \n",
       "MoSold              6.0       8.00      12.0  \n",
       "YrSold           2008.0    2009.00    2010.0  \n",
       "SalePrice      163000.0  214000.00  755000.0  "
      ]
     },
     "execution_count": 10,
     "metadata": {},
     "output_type": "execute_result"
    }
   ],
   "source": [
    "#Descriptive statistic of numerical variables\n",
    "df.describe().T"
   ]
  },
  {
   "cell_type": "markdown",
   "id": "9bd85055",
   "metadata": {
    "papermill": {
     "duration": 0.018209,
     "end_time": "2023-12-29T07:15:53.147931",
     "exception": false,
     "start_time": "2023-12-29T07:15:53.129722",
     "status": "completed"
    },
    "tags": []
   },
   "source": [
    "#### Some of the variables, have count less than the rows we obtained from 'df.shape', which is 1460, which indicates missing values. some of the variables also has a suspicious range of their 'min' and 'max', which can also indicates outliers."
   ]
  },
  {
   "cell_type": "code",
   "execution_count": 11,
   "id": "fd48af10",
   "metadata": {
    "execution": {
     "iopub.execute_input": "2023-12-29T07:15:53.187993Z",
     "iopub.status.busy": "2023-12-29T07:15:53.187669Z",
     "iopub.status.idle": "2023-12-29T07:15:53.250772Z",
     "shell.execute_reply": "2023-12-29T07:15:53.249904Z"
    },
    "papermill": {
     "duration": 0.085054,
     "end_time": "2023-12-29T07:15:53.252592",
     "exception": false,
     "start_time": "2023-12-29T07:15:53.167538",
     "status": "completed"
    },
    "tags": []
   },
   "outputs": [
    {
     "data": {
      "text/html": [
       "<div>\n",
       "<style scoped>\n",
       "    .dataframe tbody tr th:only-of-type {\n",
       "        vertical-align: middle;\n",
       "    }\n",
       "\n",
       "    .dataframe tbody tr th {\n",
       "        vertical-align: top;\n",
       "    }\n",
       "\n",
       "    .dataframe thead th {\n",
       "        text-align: right;\n",
       "    }\n",
       "</style>\n",
       "<table border=\"1\" class=\"dataframe\">\n",
       "  <thead>\n",
       "    <tr style=\"text-align: right;\">\n",
       "      <th></th>\n",
       "      <th>count</th>\n",
       "      <th>unique</th>\n",
       "      <th>top</th>\n",
       "      <th>freq</th>\n",
       "    </tr>\n",
       "  </thead>\n",
       "  <tbody>\n",
       "    <tr>\n",
       "      <th>MSZoning</th>\n",
       "      <td>1460</td>\n",
       "      <td>5</td>\n",
       "      <td>RL</td>\n",
       "      <td>1151</td>\n",
       "    </tr>\n",
       "    <tr>\n",
       "      <th>Street</th>\n",
       "      <td>1460</td>\n",
       "      <td>2</td>\n",
       "      <td>Pave</td>\n",
       "      <td>1454</td>\n",
       "    </tr>\n",
       "    <tr>\n",
       "      <th>Alley</th>\n",
       "      <td>91</td>\n",
       "      <td>2</td>\n",
       "      <td>Grvl</td>\n",
       "      <td>50</td>\n",
       "    </tr>\n",
       "    <tr>\n",
       "      <th>LotShape</th>\n",
       "      <td>1460</td>\n",
       "      <td>4</td>\n",
       "      <td>Reg</td>\n",
       "      <td>925</td>\n",
       "    </tr>\n",
       "    <tr>\n",
       "      <th>LandContour</th>\n",
       "      <td>1460</td>\n",
       "      <td>4</td>\n",
       "      <td>Lvl</td>\n",
       "      <td>1311</td>\n",
       "    </tr>\n",
       "    <tr>\n",
       "      <th>Utilities</th>\n",
       "      <td>1460</td>\n",
       "      <td>2</td>\n",
       "      <td>AllPub</td>\n",
       "      <td>1459</td>\n",
       "    </tr>\n",
       "    <tr>\n",
       "      <th>LotConfig</th>\n",
       "      <td>1460</td>\n",
       "      <td>5</td>\n",
       "      <td>Inside</td>\n",
       "      <td>1052</td>\n",
       "    </tr>\n",
       "    <tr>\n",
       "      <th>LandSlope</th>\n",
       "      <td>1460</td>\n",
       "      <td>3</td>\n",
       "      <td>Gtl</td>\n",
       "      <td>1382</td>\n",
       "    </tr>\n",
       "    <tr>\n",
       "      <th>Neighborhood</th>\n",
       "      <td>1460</td>\n",
       "      <td>25</td>\n",
       "      <td>NAmes</td>\n",
       "      <td>225</td>\n",
       "    </tr>\n",
       "    <tr>\n",
       "      <th>Condition1</th>\n",
       "      <td>1460</td>\n",
       "      <td>9</td>\n",
       "      <td>Norm</td>\n",
       "      <td>1260</td>\n",
       "    </tr>\n",
       "    <tr>\n",
       "      <th>Condition2</th>\n",
       "      <td>1460</td>\n",
       "      <td>8</td>\n",
       "      <td>Norm</td>\n",
       "      <td>1445</td>\n",
       "    </tr>\n",
       "    <tr>\n",
       "      <th>BldgType</th>\n",
       "      <td>1460</td>\n",
       "      <td>5</td>\n",
       "      <td>1Fam</td>\n",
       "      <td>1220</td>\n",
       "    </tr>\n",
       "    <tr>\n",
       "      <th>HouseStyle</th>\n",
       "      <td>1460</td>\n",
       "      <td>8</td>\n",
       "      <td>1Story</td>\n",
       "      <td>726</td>\n",
       "    </tr>\n",
       "    <tr>\n",
       "      <th>RoofStyle</th>\n",
       "      <td>1460</td>\n",
       "      <td>6</td>\n",
       "      <td>Gable</td>\n",
       "      <td>1141</td>\n",
       "    </tr>\n",
       "    <tr>\n",
       "      <th>RoofMatl</th>\n",
       "      <td>1460</td>\n",
       "      <td>8</td>\n",
       "      <td>CompShg</td>\n",
       "      <td>1434</td>\n",
       "    </tr>\n",
       "    <tr>\n",
       "      <th>Exterior1st</th>\n",
       "      <td>1460</td>\n",
       "      <td>15</td>\n",
       "      <td>VinylSd</td>\n",
       "      <td>515</td>\n",
       "    </tr>\n",
       "    <tr>\n",
       "      <th>Exterior2nd</th>\n",
       "      <td>1460</td>\n",
       "      <td>16</td>\n",
       "      <td>VinylSd</td>\n",
       "      <td>504</td>\n",
       "    </tr>\n",
       "    <tr>\n",
       "      <th>MasVnrType</th>\n",
       "      <td>588</td>\n",
       "      <td>3</td>\n",
       "      <td>BrkFace</td>\n",
       "      <td>445</td>\n",
       "    </tr>\n",
       "    <tr>\n",
       "      <th>ExterQual</th>\n",
       "      <td>1460</td>\n",
       "      <td>4</td>\n",
       "      <td>TA</td>\n",
       "      <td>906</td>\n",
       "    </tr>\n",
       "    <tr>\n",
       "      <th>ExterCond</th>\n",
       "      <td>1460</td>\n",
       "      <td>5</td>\n",
       "      <td>TA</td>\n",
       "      <td>1282</td>\n",
       "    </tr>\n",
       "    <tr>\n",
       "      <th>Foundation</th>\n",
       "      <td>1460</td>\n",
       "      <td>6</td>\n",
       "      <td>PConc</td>\n",
       "      <td>647</td>\n",
       "    </tr>\n",
       "    <tr>\n",
       "      <th>BsmtQual</th>\n",
       "      <td>1423</td>\n",
       "      <td>4</td>\n",
       "      <td>TA</td>\n",
       "      <td>649</td>\n",
       "    </tr>\n",
       "    <tr>\n",
       "      <th>BsmtCond</th>\n",
       "      <td>1423</td>\n",
       "      <td>4</td>\n",
       "      <td>TA</td>\n",
       "      <td>1311</td>\n",
       "    </tr>\n",
       "    <tr>\n",
       "      <th>BsmtExposure</th>\n",
       "      <td>1422</td>\n",
       "      <td>4</td>\n",
       "      <td>No</td>\n",
       "      <td>953</td>\n",
       "    </tr>\n",
       "    <tr>\n",
       "      <th>BsmtFinType1</th>\n",
       "      <td>1423</td>\n",
       "      <td>6</td>\n",
       "      <td>Unf</td>\n",
       "      <td>430</td>\n",
       "    </tr>\n",
       "    <tr>\n",
       "      <th>BsmtFinType2</th>\n",
       "      <td>1422</td>\n",
       "      <td>6</td>\n",
       "      <td>Unf</td>\n",
       "      <td>1256</td>\n",
       "    </tr>\n",
       "    <tr>\n",
       "      <th>Heating</th>\n",
       "      <td>1460</td>\n",
       "      <td>6</td>\n",
       "      <td>GasA</td>\n",
       "      <td>1428</td>\n",
       "    </tr>\n",
       "    <tr>\n",
       "      <th>HeatingQC</th>\n",
       "      <td>1460</td>\n",
       "      <td>5</td>\n",
       "      <td>Ex</td>\n",
       "      <td>741</td>\n",
       "    </tr>\n",
       "    <tr>\n",
       "      <th>CentralAir</th>\n",
       "      <td>1460</td>\n",
       "      <td>2</td>\n",
       "      <td>Y</td>\n",
       "      <td>1365</td>\n",
       "    </tr>\n",
       "    <tr>\n",
       "      <th>Electrical</th>\n",
       "      <td>1459</td>\n",
       "      <td>5</td>\n",
       "      <td>SBrkr</td>\n",
       "      <td>1334</td>\n",
       "    </tr>\n",
       "    <tr>\n",
       "      <th>KitchenQual</th>\n",
       "      <td>1460</td>\n",
       "      <td>4</td>\n",
       "      <td>TA</td>\n",
       "      <td>735</td>\n",
       "    </tr>\n",
       "    <tr>\n",
       "      <th>Functional</th>\n",
       "      <td>1460</td>\n",
       "      <td>7</td>\n",
       "      <td>Typ</td>\n",
       "      <td>1360</td>\n",
       "    </tr>\n",
       "    <tr>\n",
       "      <th>FireplaceQu</th>\n",
       "      <td>770</td>\n",
       "      <td>5</td>\n",
       "      <td>Gd</td>\n",
       "      <td>380</td>\n",
       "    </tr>\n",
       "    <tr>\n",
       "      <th>GarageType</th>\n",
       "      <td>1379</td>\n",
       "      <td>6</td>\n",
       "      <td>Attchd</td>\n",
       "      <td>870</td>\n",
       "    </tr>\n",
       "    <tr>\n",
       "      <th>GarageFinish</th>\n",
       "      <td>1379</td>\n",
       "      <td>3</td>\n",
       "      <td>Unf</td>\n",
       "      <td>605</td>\n",
       "    </tr>\n",
       "    <tr>\n",
       "      <th>GarageQual</th>\n",
       "      <td>1379</td>\n",
       "      <td>5</td>\n",
       "      <td>TA</td>\n",
       "      <td>1311</td>\n",
       "    </tr>\n",
       "    <tr>\n",
       "      <th>GarageCond</th>\n",
       "      <td>1379</td>\n",
       "      <td>5</td>\n",
       "      <td>TA</td>\n",
       "      <td>1326</td>\n",
       "    </tr>\n",
       "    <tr>\n",
       "      <th>PavedDrive</th>\n",
       "      <td>1460</td>\n",
       "      <td>3</td>\n",
       "      <td>Y</td>\n",
       "      <td>1340</td>\n",
       "    </tr>\n",
       "    <tr>\n",
       "      <th>PoolQC</th>\n",
       "      <td>7</td>\n",
       "      <td>3</td>\n",
       "      <td>Gd</td>\n",
       "      <td>3</td>\n",
       "    </tr>\n",
       "    <tr>\n",
       "      <th>Fence</th>\n",
       "      <td>281</td>\n",
       "      <td>4</td>\n",
       "      <td>MnPrv</td>\n",
       "      <td>157</td>\n",
       "    </tr>\n",
       "    <tr>\n",
       "      <th>MiscFeature</th>\n",
       "      <td>54</td>\n",
       "      <td>4</td>\n",
       "      <td>Shed</td>\n",
       "      <td>49</td>\n",
       "    </tr>\n",
       "    <tr>\n",
       "      <th>SaleType</th>\n",
       "      <td>1460</td>\n",
       "      <td>9</td>\n",
       "      <td>WD</td>\n",
       "      <td>1267</td>\n",
       "    </tr>\n",
       "    <tr>\n",
       "      <th>SaleCondition</th>\n",
       "      <td>1460</td>\n",
       "      <td>6</td>\n",
       "      <td>Normal</td>\n",
       "      <td>1198</td>\n",
       "    </tr>\n",
       "  </tbody>\n",
       "</table>\n",
       "</div>"
      ],
      "text/plain": [
       "              count unique      top  freq\n",
       "MSZoning       1460      5       RL  1151\n",
       "Street         1460      2     Pave  1454\n",
       "Alley            91      2     Grvl    50\n",
       "LotShape       1460      4      Reg   925\n",
       "LandContour    1460      4      Lvl  1311\n",
       "Utilities      1460      2   AllPub  1459\n",
       "LotConfig      1460      5   Inside  1052\n",
       "LandSlope      1460      3      Gtl  1382\n",
       "Neighborhood   1460     25    NAmes   225\n",
       "Condition1     1460      9     Norm  1260\n",
       "Condition2     1460      8     Norm  1445\n",
       "BldgType       1460      5     1Fam  1220\n",
       "HouseStyle     1460      8   1Story   726\n",
       "RoofStyle      1460      6    Gable  1141\n",
       "RoofMatl       1460      8  CompShg  1434\n",
       "Exterior1st    1460     15  VinylSd   515\n",
       "Exterior2nd    1460     16  VinylSd   504\n",
       "MasVnrType      588      3  BrkFace   445\n",
       "ExterQual      1460      4       TA   906\n",
       "ExterCond      1460      5       TA  1282\n",
       "Foundation     1460      6    PConc   647\n",
       "BsmtQual       1423      4       TA   649\n",
       "BsmtCond       1423      4       TA  1311\n",
       "BsmtExposure   1422      4       No   953\n",
       "BsmtFinType1   1423      6      Unf   430\n",
       "BsmtFinType2   1422      6      Unf  1256\n",
       "Heating        1460      6     GasA  1428\n",
       "HeatingQC      1460      5       Ex   741\n",
       "CentralAir     1460      2        Y  1365\n",
       "Electrical     1459      5    SBrkr  1334\n",
       "KitchenQual    1460      4       TA   735\n",
       "Functional     1460      7      Typ  1360\n",
       "FireplaceQu     770      5       Gd   380\n",
       "GarageType     1379      6   Attchd   870\n",
       "GarageFinish   1379      3      Unf   605\n",
       "GarageQual     1379      5       TA  1311\n",
       "GarageCond     1379      5       TA  1326\n",
       "PavedDrive     1460      3        Y  1340\n",
       "PoolQC            7      3       Gd     3\n",
       "Fence           281      4    MnPrv   157\n",
       "MiscFeature      54      4     Shed    49\n",
       "SaleType       1460      9       WD  1267\n",
       "SaleCondition  1460      6   Normal  1198"
      ]
     },
     "execution_count": 11,
     "metadata": {},
     "output_type": "execute_result"
    }
   ],
   "source": [
    "#Descriptive statistic of categorical variables\n",
    "df.describe(include='object').T"
   ]
  },
  {
   "cell_type": "markdown",
   "id": "2c972ee6",
   "metadata": {
    "papermill": {
     "duration": 0.018953,
     "end_time": "2023-12-29T07:15:53.290586",
     "exception": false,
     "start_time": "2023-12-29T07:15:53.271633",
     "status": "completed"
    },
    "tags": []
   },
   "source": [
    "#### Lots of variables has a lot of missing value, as we can see from their 'count'. Some also has a very high 'frequency' which can indicate low variance / almost constant."
   ]
  },
  {
   "cell_type": "code",
   "execution_count": 12,
   "id": "e0240905",
   "metadata": {
    "execution": {
     "iopub.execute_input": "2023-12-29T07:15:53.331610Z",
     "iopub.status.busy": "2023-12-29T07:15:53.331295Z",
     "iopub.status.idle": "2023-12-29T07:15:53.340562Z",
     "shell.execute_reply": "2023-12-29T07:15:53.339454Z"
    },
    "papermill": {
     "duration": 0.031702,
     "end_time": "2023-12-29T07:15:53.342373",
     "exception": false,
     "start_time": "2023-12-29T07:15:53.310671",
     "status": "completed"
    },
    "tags": []
   },
   "outputs": [
    {
     "name": "stdout",
     "output_type": "stream",
     "text": [
      "Features with missing values:\n",
      "LotFrontage      259\n",
      "Alley           1369\n",
      "MasVnrType       872\n",
      "MasVnrArea         8\n",
      "BsmtQual          37\n",
      "BsmtCond          37\n",
      "BsmtExposure      38\n",
      "BsmtFinType1      37\n",
      "BsmtFinType2      38\n",
      "Electrical         1\n",
      "FireplaceQu      690\n",
      "GarageType        81\n",
      "GarageYrBlt       81\n",
      "GarageFinish      81\n",
      "GarageQual        81\n",
      "GarageCond        81\n",
      "PoolQC          1453\n",
      "Fence           1179\n",
      "MiscFeature     1406\n",
      "dtype: int64\n"
     ]
    }
   ],
   "source": [
    "#Check missing value\n",
    "mis_val = df.isnull().sum()\n",
    "mis_val = mis_val[mis_val > 0]\n",
    "print(\"Features with missing values:\")\n",
    "print(mis_val)"
   ]
  },
  {
   "cell_type": "markdown",
   "id": "6f5687bd",
   "metadata": {
    "papermill": {
     "duration": 0.019277,
     "end_time": "2023-12-29T07:15:53.380688",
     "exception": false,
     "start_time": "2023-12-29T07:15:53.361411",
     "status": "completed"
    },
    "tags": []
   },
   "source": [
    "#### As we can see, it turns out to be true that some of the variables have lots of missing value."
   ]
  },
  {
   "cell_type": "markdown",
   "id": "a08eff4a",
   "metadata": {
    "papermill": {
     "duration": 0.018903,
     "end_time": "2023-12-29T07:15:53.418748",
     "exception": false,
     "start_time": "2023-12-29T07:15:53.399845",
     "status": "completed"
    },
    "tags": []
   },
   "source": [
    "## Handling Missing Values"
   ]
  },
  {
   "cell_type": "markdown",
   "id": "fc500ae0",
   "metadata": {
    "papermill": {
     "duration": 0.019176,
     "end_time": "2023-12-29T07:15:53.457450",
     "exception": false,
     "start_time": "2023-12-29T07:15:53.438274",
     "status": "completed"
    },
    "tags": []
   },
   "source": [
    "#### Before we do any feature analysis, i would like to impute some of the missing values first with 'None', why 'None'? well as the data card suggests, some of the missing value basically means that a feature is not available, e.g : NA in 'Alley' means 'No alley access'."
   ]
  },
  {
   "cell_type": "code",
   "execution_count": 13,
   "id": "09e94aee",
   "metadata": {
    "execution": {
     "iopub.execute_input": "2023-12-29T07:15:53.497354Z",
     "iopub.status.busy": "2023-12-29T07:15:53.497049Z",
     "iopub.status.idle": "2023-12-29T07:15:53.508930Z",
     "shell.execute_reply": "2023-12-29T07:15:53.507986Z"
    },
    "papermill": {
     "duration": 0.034292,
     "end_time": "2023-12-29T07:15:53.510923",
     "exception": false,
     "start_time": "2023-12-29T07:15:53.476631",
     "status": "completed"
    },
    "tags": []
   },
   "outputs": [],
   "source": [
    "#impute missing value with 'None'\n",
    "nones = ['Alley','BsmtQual','BsmtCond','BsmtExposure','BsmtFinType1','BsmtFinType2','FireplaceQu','GarageType'\n",
    "   ,'GarageFinish','GarageQual','GarageCond','PoolQC','Fence','MiscFeature']\n",
    "for column in nones:\n",
    "    df[column] = df[column].fillna(\"None\")"
   ]
  },
  {
   "cell_type": "code",
   "execution_count": 14,
   "id": "73f8332c",
   "metadata": {
    "execution": {
     "iopub.execute_input": "2023-12-29T07:15:53.551639Z",
     "iopub.status.busy": "2023-12-29T07:15:53.551317Z",
     "iopub.status.idle": "2023-12-29T07:15:53.562273Z",
     "shell.execute_reply": "2023-12-29T07:15:53.560674Z"
    },
    "papermill": {
     "duration": 0.034583,
     "end_time": "2023-12-29T07:15:53.565003",
     "exception": false,
     "start_time": "2023-12-29T07:15:53.530420",
     "status": "completed"
    },
    "tags": []
   },
   "outputs": [
    {
     "name": "stdout",
     "output_type": "stream",
     "text": [
      "Features with missing values:\n",
      "LotFrontage    259\n",
      "MasVnrType     872\n",
      "MasVnrArea       8\n",
      "Electrical       1\n",
      "GarageYrBlt     81\n",
      "dtype: int64\n"
     ]
    }
   ],
   "source": [
    "#Check missing value again\n",
    "mis_val = df.isnull().sum()\n",
    "mis_val = mis_val[mis_val > 0]\n",
    "print(\"Features with missing values:\")\n",
    "print(mis_val)"
   ]
  },
  {
   "cell_type": "markdown",
   "id": "d6d42d94",
   "metadata": {
    "papermill": {
     "duration": 0.019787,
     "end_time": "2023-12-29T07:15:53.604793",
     "exception": false,
     "start_time": "2023-12-29T07:15:53.585006",
     "status": "completed"
    },
    "tags": []
   },
   "source": [
    "#### Ok, so we need to impute the rest of features with missing values with no meaning, the strategy here is to impute continuous variables with knn imputer, and the categorical with mode."
   ]
  },
  {
   "cell_type": "markdown",
   "id": "ae16785a",
   "metadata": {
    "papermill": {
     "duration": 0.019372,
     "end_time": "2023-12-29T07:15:53.644000",
     "exception": false,
     "start_time": "2023-12-29T07:15:53.624628",
     "status": "completed"
    },
    "tags": []
   },
   "source": [
    "#### Why knn imputer? well the size of our data is relatively small. therefore, running a knn imputer won't be computanionally expensive for this size of data."
   ]
  },
  {
   "cell_type": "code",
   "execution_count": 15,
   "id": "7edeef4f",
   "metadata": {
    "execution": {
     "iopub.execute_input": "2023-12-29T07:15:53.685395Z",
     "iopub.status.busy": "2023-12-29T07:15:53.685045Z",
     "iopub.status.idle": "2023-12-29T07:15:54.137757Z",
     "shell.execute_reply": "2023-12-29T07:15:54.136649Z"
    },
    "papermill": {
     "duration": 0.475896,
     "end_time": "2023-12-29T07:15:54.139847",
     "exception": false,
     "start_time": "2023-12-29T07:15:53.663951",
     "status": "completed"
    },
    "tags": []
   },
   "outputs": [],
   "source": [
    "from sklearn.impute import KNNImputer\n",
    "knn_cols = ['LotFrontage','MasVnrArea','GarageYrBlt']\n",
    "imputer = KNNImputer(weights = 'distance')\n",
    "df[knn_cols] = imputer.fit(df[knn_cols])"
   ]
  },
  {
   "cell_type": "code",
   "execution_count": 16,
   "id": "b5fe7ec3",
   "metadata": {
    "execution": {
     "iopub.execute_input": "2023-12-29T07:15:54.181656Z",
     "iopub.status.busy": "2023-12-29T07:15:54.181300Z",
     "iopub.status.idle": "2023-12-29T07:15:54.187446Z",
     "shell.execute_reply": "2023-12-29T07:15:54.186504Z"
    },
    "papermill": {
     "duration": 0.029202,
     "end_time": "2023-12-29T07:15:54.189614",
     "exception": false,
     "start_time": "2023-12-29T07:15:54.160412",
     "status": "completed"
    },
    "tags": []
   },
   "outputs": [],
   "source": [
    "#Since 'Electrical' is categorical, we will use it's mode for imputation.\n",
    "df['Electrical'] = df['Electrical'].fillna(df['Electrical'].mode().iloc[0])"
   ]
  },
  {
   "cell_type": "code",
   "execution_count": 17,
   "id": "d2d6b9e8",
   "metadata": {
    "execution": {
     "iopub.execute_input": "2023-12-29T07:15:54.230317Z",
     "iopub.status.busy": "2023-12-29T07:15:54.229958Z",
     "iopub.status.idle": "2023-12-29T07:15:54.239132Z",
     "shell.execute_reply": "2023-12-29T07:15:54.237970Z"
    },
    "papermill": {
     "duration": 0.032413,
     "end_time": "2023-12-29T07:15:54.241835",
     "exception": false,
     "start_time": "2023-12-29T07:15:54.209422",
     "status": "completed"
    },
    "tags": []
   },
   "outputs": [],
   "source": [
    "#Drop 'MasVnrType', because it's total of missing value is more than 50%, imputing it can cause a highly bias value.\n",
    "df.drop('MasVnrType', axis = 1, inplace = True)"
   ]
  },
  {
   "cell_type": "markdown",
   "id": "6c07f003",
   "metadata": {
    "papermill": {
     "duration": 0.020256,
     "end_time": "2023-12-29T07:15:54.282443",
     "exception": false,
     "start_time": "2023-12-29T07:15:54.262187",
     "status": "completed"
    },
    "tags": []
   },
   "source": [
    "#### Let's see the unique contents of our features "
   ]
  },
  {
   "cell_type": "code",
   "execution_count": 18,
   "id": "d859a179",
   "metadata": {
    "execution": {
     "iopub.execute_input": "2023-12-29T07:15:54.324844Z",
     "iopub.status.busy": "2023-12-29T07:15:54.324518Z",
     "iopub.status.idle": "2023-12-29T07:15:54.348526Z",
     "shell.execute_reply": "2023-12-29T07:15:54.347437Z"
    },
    "papermill": {
     "duration": 0.048033,
     "end_time": "2023-12-29T07:15:54.350941",
     "exception": false,
     "start_time": "2023-12-29T07:15:54.302908",
     "status": "completed"
    },
    "tags": []
   },
   "outputs": [
    {
     "name": "stdout",
     "output_type": "stream",
     "text": [
      "MSSubClass\n",
      "[ 60  20  70  50 190  45  90 120  30  85  80 160  75 180  40]\n",
      "MSZoning\n",
      "['RL' 'RM' 'C (all)' 'FV' 'RH']\n",
      "LotArea\n",
      "[ 8450  9600 11250 ... 17217 13175  9717]\n",
      "Street\n",
      "['Pave' 'Grvl']\n",
      "Alley\n",
      "['None' 'Grvl' 'Pave']\n",
      "LotShape\n",
      "['Reg' 'IR1' 'IR2' 'IR3']\n",
      "LandContour\n",
      "['Lvl' 'Bnk' 'Low' 'HLS']\n",
      "Utilities\n",
      "['AllPub' 'NoSeWa']\n",
      "LotConfig\n",
      "['Inside' 'FR2' 'Corner' 'CulDSac' 'FR3']\n",
      "LandSlope\n",
      "['Gtl' 'Mod' 'Sev']\n",
      "Neighborhood\n",
      "['CollgCr' 'Veenker' 'Crawfor' 'NoRidge' 'Mitchel' 'Somerst' 'NWAmes'\n",
      " 'OldTown' 'BrkSide' 'Sawyer' 'NridgHt' 'NAmes' 'SawyerW' 'IDOTRR'\n",
      " 'MeadowV' 'Edwards' 'Timber' 'Gilbert' 'StoneBr' 'ClearCr' 'NPkVill'\n",
      " 'Blmngtn' 'BrDale' 'SWISU' 'Blueste']\n",
      "Condition1\n",
      "['Norm' 'Feedr' 'PosN' 'Artery' 'RRAe' 'RRNn' 'RRAn' 'PosA' 'RRNe']\n",
      "Condition2\n",
      "['Norm' 'Artery' 'RRNn' 'Feedr' 'PosN' 'PosA' 'RRAn' 'RRAe']\n",
      "BldgType\n",
      "['1Fam' '2fmCon' 'Duplex' 'TwnhsE' 'Twnhs']\n",
      "HouseStyle\n",
      "['2Story' '1Story' '1.5Fin' '1.5Unf' 'SFoyer' 'SLvl' '2.5Unf' '2.5Fin']\n",
      "OverallQual\n",
      "[ 7  6  8  5  9  4 10  3  1  2]\n",
      "OverallCond\n",
      "[5 8 6 7 4 2 3 9 1]\n",
      "RoofStyle\n",
      "['Gable' 'Hip' 'Gambrel' 'Mansard' 'Flat' 'Shed']\n",
      "RoofMatl\n",
      "['CompShg' 'WdShngl' 'Metal' 'WdShake' 'Membran' 'Tar&Grv' 'Roll'\n",
      " 'ClyTile']\n",
      "Exterior1st\n",
      "['VinylSd' 'MetalSd' 'Wd Sdng' 'HdBoard' 'BrkFace' 'WdShing' 'CemntBd'\n",
      " 'Plywood' 'AsbShng' 'Stucco' 'BrkComm' 'AsphShn' 'Stone' 'ImStucc'\n",
      " 'CBlock']\n",
      "Exterior2nd\n",
      "['VinylSd' 'MetalSd' 'Wd Shng' 'HdBoard' 'Plywood' 'Wd Sdng' 'CmentBd'\n",
      " 'BrkFace' 'Stucco' 'AsbShng' 'Brk Cmn' 'ImStucc' 'AsphShn' 'Stone'\n",
      " 'Other' 'CBlock']\n",
      "ExterQual\n",
      "['Gd' 'TA' 'Ex' 'Fa']\n",
      "ExterCond\n",
      "['TA' 'Gd' 'Fa' 'Po' 'Ex']\n",
      "Foundation\n",
      "['PConc' 'CBlock' 'BrkTil' 'Wood' 'Slab' 'Stone']\n",
      "BsmtQual\n",
      "['Gd' 'TA' 'Ex' 'None' 'Fa']\n",
      "BsmtCond\n",
      "['TA' 'Gd' 'None' 'Fa' 'Po']\n",
      "BsmtExposure\n",
      "['No' 'Gd' 'Mn' 'Av' 'None']\n",
      "BsmtFinType1\n",
      "['GLQ' 'ALQ' 'Unf' 'Rec' 'BLQ' 'None' 'LwQ']\n",
      "BsmtFinType2\n",
      "['Unf' 'BLQ' 'None' 'ALQ' 'Rec' 'LwQ' 'GLQ']\n",
      "Heating\n",
      "['GasA' 'GasW' 'Grav' 'Wall' 'OthW' 'Floor']\n",
      "HeatingQC\n",
      "['Ex' 'Gd' 'TA' 'Fa' 'Po']\n",
      "CentralAir\n",
      "['Y' 'N']\n",
      "Electrical\n",
      "['SBrkr' 'FuseF' 'FuseA' 'FuseP' 'Mix']\n",
      "BsmtFullBath\n",
      "[1 0 2 3]\n",
      "BsmtHalfBath\n",
      "[0 1 2]\n",
      "FullBath\n",
      "[2 1 3 0]\n",
      "HalfBath\n",
      "[1 0 2]\n",
      "BedroomAbvGr\n",
      "[3 4 1 2 0 5 6 8]\n",
      "KitchenAbvGr\n",
      "[1 2 3 0]\n",
      "KitchenQual\n",
      "['Gd' 'TA' 'Ex' 'Fa']\n",
      "Functional\n",
      "['Typ' 'Min1' 'Maj1' 'Min2' 'Mod' 'Maj2' 'Sev']\n",
      "Fireplaces\n",
      "[0 1 2 3]\n",
      "FireplaceQu\n",
      "['None' 'TA' 'Gd' 'Fa' 'Ex' 'Po']\n",
      "GarageType\n",
      "['Attchd' 'Detchd' 'BuiltIn' 'CarPort' 'None' 'Basment' '2Types']\n",
      "GarageFinish\n",
      "['RFn' 'Unf' 'Fin' 'None']\n",
      "GarageCars\n",
      "[2 3 1 0 4]\n",
      "GarageQual\n",
      "['TA' 'Fa' 'Gd' 'None' 'Ex' 'Po']\n",
      "GarageCond\n",
      "['TA' 'Fa' 'None' 'Gd' 'Po' 'Ex']\n",
      "PavedDrive\n",
      "['Y' 'N' 'P']\n",
      "PoolQC\n",
      "['None' 'Ex' 'Fa' 'Gd']\n",
      "Fence\n",
      "['None' 'MnPrv' 'GdWo' 'GdPrv' 'MnWw']\n",
      "MiscFeature\n",
      "['None' 'Shed' 'Gar2' 'Othr' 'TenC']\n",
      "SaleType\n",
      "['WD' 'New' 'COD' 'ConLD' 'ConLI' 'CWD' 'ConLw' 'Con' 'Oth']\n",
      "SaleCondition\n",
      "['Normal' 'Abnorml' 'Partial' 'AdjLand' 'Alloca' 'Family']\n"
     ]
    }
   ],
   "source": [
    "#List our continuous columns\n",
    "cont_col = ['SalePrice', 'ScreenPorch', 'EnclosedPorch', 'OpenPorchSF', 'WoodDeckSF', 'GarageArea', 'GarageYrBlt','GrLivArea'\n",
    "            ,'LowQualFinSF','2ndFlrSF','1stFlrSF','TotalBsmtSF','BsmtUnfSF','BsmtFinSF2', 'BsmtFinSF1','MasVnrArea'\n",
    "            ,'YearRemodAdd','YearBuilt','LotFrontage','MiscVal','MoSold','YrSold','PoolArea','3SsnPorch','TotRmsAbvGrd']\n",
    "\n",
    "for x in df.columns:\n",
    "    if x in cont_col:\n",
    "        continue\n",
    "    \n",
    "    print(x)\n",
    "    print(df[x].unique())"
   ]
  },
  {
   "cell_type": "markdown",
   "id": "aff0acb3",
   "metadata": {
    "papermill": {
     "duration": 0.021713,
     "end_time": "2023-12-29T07:15:54.393285",
     "exception": false,
     "start_time": "2023-12-29T07:15:54.371572",
     "status": "completed"
    },
    "tags": []
   },
   "source": [
    "#### Since we have lots of features, it's best if we first see the correlation between our features and the target value (SalePrice), to actually see which features impact our target the most."
   ]
  },
  {
   "cell_type": "code",
   "execution_count": 19,
   "id": "2aab911c",
   "metadata": {
    "execution": {
     "iopub.execute_input": "2023-12-29T07:15:54.436379Z",
     "iopub.status.busy": "2023-12-29T07:15:54.435537Z",
     "iopub.status.idle": "2023-12-29T07:15:54.449318Z",
     "shell.execute_reply": "2023-12-29T07:15:54.448184Z"
    },
    "papermill": {
     "duration": 0.038155,
     "end_time": "2023-12-29T07:15:54.451973",
     "exception": false,
     "start_time": "2023-12-29T07:15:54.413818",
     "status": "completed"
    },
    "tags": []
   },
   "outputs": [
    {
     "name": "stdout",
     "output_type": "stream",
     "text": [
      "SalePrice        1.000000\n",
      "OverallQual      0.790982\n",
      "GrLivArea        0.708624\n",
      "GarageCars       0.640409\n",
      "GarageArea       0.623431\n",
      "TotalBsmtSF      0.613581\n",
      "1stFlrSF         0.605852\n",
      "FullBath         0.560664\n",
      "TotRmsAbvGrd     0.533723\n",
      "YearBuilt        0.522897\n",
      "YearRemodAdd     0.507101\n",
      "Fireplaces       0.466929\n",
      "BsmtFinSF1       0.386420\n",
      "WoodDeckSF       0.324413\n",
      "2ndFlrSF         0.319334\n",
      "OpenPorchSF      0.315856\n",
      "HalfBath         0.284108\n",
      "LotArea          0.263843\n",
      "BsmtFullBath     0.227122\n",
      "BsmtUnfSF        0.214479\n",
      "BedroomAbvGr     0.168213\n",
      "ScreenPorch      0.111447\n",
      "PoolArea         0.092404\n",
      "MoSold           0.046432\n",
      "3SsnPorch        0.044584\n",
      "BsmtFinSF2      -0.011378\n",
      "BsmtHalfBath    -0.016844\n",
      "MiscVal         -0.021190\n",
      "LowQualFinSF    -0.025606\n",
      "YrSold          -0.028923\n",
      "OverallCond     -0.077856\n",
      "MSSubClass      -0.084284\n",
      "EnclosedPorch   -0.128578\n",
      "KitchenAbvGr    -0.135907\n",
      "Name: SalePrice, dtype: float64\n"
     ]
    }
   ],
   "source": [
    "num_df = df.select_dtypes(include='number')\n",
    "correlation_with_y = num_df.corr()['SalePrice'].sort_values(ascending=False)\n",
    "print(correlation_with_y)"
   ]
  },
  {
   "cell_type": "markdown",
   "id": "f89c5e8e",
   "metadata": {
    "papermill": {
     "duration": 0.021238,
     "end_time": "2023-12-29T07:15:54.493690",
     "exception": false,
     "start_time": "2023-12-29T07:15:54.472452",
     "status": "completed"
    },
    "tags": []
   },
   "source": [
    "#### As we can observe, we have 10 variables that have more than 50% correlation to the target (excluding 'SalePrice'), and we also have lots of variables which are negatively correlated to the target."
   ]
  },
  {
   "cell_type": "markdown",
   "id": "c20bca4d",
   "metadata": {
    "papermill": {
     "duration": 0.019784,
     "end_time": "2023-12-29T07:15:54.534158",
     "exception": false,
     "start_time": "2023-12-29T07:15:54.514374",
     "status": "completed"
    },
    "tags": []
   },
   "source": [
    "## 'SalePrice' (target variable) Analysis"
   ]
  },
  {
   "cell_type": "code",
   "execution_count": 20,
   "id": "295bc12f",
   "metadata": {
    "execution": {
     "iopub.execute_input": "2023-12-29T07:15:54.576070Z",
     "iopub.status.busy": "2023-12-29T07:15:54.575718Z",
     "iopub.status.idle": "2023-12-29T07:15:54.889395Z",
     "shell.execute_reply": "2023-12-29T07:15:54.888068Z"
    },
    "papermill": {
     "duration": 0.336707,
     "end_time": "2023-12-29T07:15:54.891063",
     "exception": false,
     "start_time": "2023-12-29T07:15:54.554356",
     "status": "completed"
    },
    "tags": []
   },
   "outputs": [
    {
     "data": {
      "image/png": "[encoded data removed]",
      "text/plain": [
       "<Figure size 640x480 with 1 Axes>"
      ]
     },
     "metadata": {},
     "output_type": "display_data"
    },
    {
     "name": "stdout",
     "output_type": "stream",
     "text": [
      "Original skewness of our data :  1.880940746034036\n"
     ]
    }
   ],
   "source": [
    "#simply plot the distribution of the 'SalePrice'\n",
    "from scipy.stats import skew\n",
    "\n",
    "sns.histplot(df['SalePrice'])\n",
    "plt.title(\"Target variable distribution\")\n",
    "plt.show()\n",
    "\n",
    "print(\"Original skewness of our data : \", skew(df['SalePrice']))"
   ]
  },
  {
   "cell_type": "markdown",
   "id": "c072aa6e",
   "metadata": {
    "papermill": {
     "duration": 0.020172,
     "end_time": "2023-12-29T07:15:54.931445",
     "exception": false,
     "start_time": "2023-12-29T07:15:54.911273",
     "status": "completed"
    },
    "tags": []
   },
   "source": [
    "#### It is highly skewed, we can try variable transformation methods to see which method works the best."
   ]
  },
  {
   "cell_type": "code",
   "execution_count": 21,
   "id": "08522c14",
   "metadata": {
    "execution": {
     "iopub.execute_input": "2023-12-29T07:15:54.974241Z",
     "iopub.status.busy": "2023-12-29T07:15:54.973842Z",
     "iopub.status.idle": "2023-12-29T07:15:55.749992Z",
     "shell.execute_reply": "2023-12-29T07:15:55.748880Z"
    },
    "papermill": {
     "duration": 0.80092,
     "end_time": "2023-12-29T07:15:55.752996",
     "exception": false,
     "start_time": "2023-12-29T07:15:54.952076",
     "status": "completed"
    },
    "tags": []
   },
   "outputs": [
    {
     "data": {
      "image/png": "[encoded data removed]",
      "text/plain": [
       "<Figure size 640x480 with 3 Axes>"
      ]
     },
     "metadata": {},
     "output_type": "display_data"
    },
    {
     "name": "stdout",
     "output_type": "stream",
     "text": [
      "Skewness after log transformation :  0.12122191311528363\n",
      "Skewness after sqrt transformation :  0.9421834681211159\n"
     ]
    }
   ],
   "source": [
    "#Let's try some methods and compare the result\n",
    "\n",
    "#log transformation\n",
    "trans1 = np.log1p(df['SalePrice'])\n",
    "\n",
    "#sqrt transformation\n",
    "trans2 = np.sqrt(df['SalePrice'])\n",
    "\n",
    "fig,axes = plt.subplots(nrows = 3, ncols = 1)\n",
    "sns.distplot(df['SalePrice'], ax = axes[0])\n",
    "sns.distplot(trans1, ax = axes[1])\n",
    "sns.distplot(trans2, ax = axes[2])\n",
    "\n",
    "axes[0].set_title('Original Distribution')\n",
    "axes[1].set_title('Log transformed Distribution')\n",
    "axes[2].set_title('Sqrt transformed Distribution')\n",
    "\n",
    "plt.tight_layout()\n",
    "plt.show()\n",
    "\n",
    "print(\"Skewness after log transformation : \",skew(trans1))\n",
    "print(\"Skewness after sqrt transformation : \",skew(trans2))"
   ]
  },
  {
   "cell_type": "markdown",
   "id": "356a7152",
   "metadata": {
    "papermill": {
     "duration": 0.021149,
     "end_time": "2023-12-29T07:15:55.796425",
     "exception": false,
     "start_time": "2023-12-29T07:15:55.775276",
     "status": "completed"
    },
    "tags": []
   },
   "source": [
    "#### From the transformations above, we can conclude that logarithmic transformation can fix the skewness in our dependent variable better than sqrt transformation. We should use the log transformed target for modelling.\n",
    "\n",
    "#### but why do we need to fix the skewness in our target variable? it's simply because with a skewed target, our model can underfit for datapoints at the tail where datapoints are'nt as frequent as at is in the median."
   ]
  },
  {
   "cell_type": "markdown",
   "id": "846211aa",
   "metadata": {
    "papermill": {
     "duration": 0.02043,
     "end_time": "2023-12-29T07:15:55.837749",
     "exception": false,
     "start_time": "2023-12-29T07:15:55.817319",
     "status": "completed"
    },
    "tags": []
   },
   "source": [
    "## 'OverallQual' Analysis"
   ]
  },
  {
   "cell_type": "code",
   "execution_count": 22,
   "id": "d5b31d13",
   "metadata": {
    "execution": {
     "iopub.execute_input": "2023-12-29T07:15:55.881897Z",
     "iopub.status.busy": "2023-12-29T07:15:55.881344Z",
     "iopub.status.idle": "2023-12-29T07:15:56.282289Z",
     "shell.execute_reply": "2023-12-29T07:15:56.281077Z"
    },
    "papermill": {
     "duration": 0.425453,
     "end_time": "2023-12-29T07:15:56.284364",
     "exception": false,
     "start_time": "2023-12-29T07:15:55.858911",
     "status": "completed"
    },
    "tags": []
   },
   "outputs": [
    {
     "data": {
      "image/png": "[encoded data removed]",
      "text/plain": [
       "<Figure size 640x480 with 1 Axes>"
      ]
     },
     "metadata": {},
     "output_type": "display_data"
    }
   ],
   "source": [
    "sns.barplot(x = df['OverallQual'], y = df['SalePrice'])\n",
    "plt.title(\"Overall Quality and Sale Price\")\n",
    "plt.show()"
   ]
  },
  {
   "cell_type": "markdown",
   "id": "a36922e6",
   "metadata": {
    "papermill": {
     "duration": 0.023364,
     "end_time": "2023-12-29T07:15:56.329501",
     "exception": false,
     "start_time": "2023-12-29T07:15:56.306137",
     "status": "completed"
    },
    "tags": []
   },
   "source": [
    "#### We can see a trend in here that higher 'OverallQual' leads to a higher 'SalePrice'"
   ]
  },
  {
   "cell_type": "markdown",
   "id": "151c6609",
   "metadata": {
    "papermill": {
     "duration": 0.021027,
     "end_time": "2023-12-29T07:15:56.371875",
     "exception": false,
     "start_time": "2023-12-29T07:15:56.350848",
     "status": "completed"
    },
    "tags": []
   },
   "source": [
    "## 'GrLivArea'(Ground Living Area) Analysis"
   ]
  },
  {
   "cell_type": "code",
   "execution_count": 23,
   "id": "c93df4b7",
   "metadata": {
    "execution": {
     "iopub.execute_input": "2023-12-29T07:15:56.417121Z",
     "iopub.status.busy": "2023-12-29T07:15:56.416786Z",
     "iopub.status.idle": "2023-12-29T07:15:56.642652Z",
     "shell.execute_reply": "2023-12-29T07:15:56.641525Z"
    },
    "papermill": {
     "duration": 0.251602,
     "end_time": "2023-12-29T07:15:56.644667",
     "exception": false,
     "start_time": "2023-12-29T07:15:56.393065",
     "status": "completed"
    },
    "tags": []
   },
   "outputs": [
    {
     "data": {
      "image/png": "[encoded data removed]",
      "text/plain": [
       "<Figure size 640x480 with 1 Axes>"
      ]
     },
     "metadata": {},
     "output_type": "display_data"
    }
   ],
   "source": [
    "#Let's create a residual plot to see, if our data fits a linear model.\n",
    "# A residual is a measure of how far away a point is vertically from the regression line.\n",
    "\n",
    "sns.residplot(x = df['GrLivArea'], y = df['SalePrice'])\n",
    "plt.title(\"Ground Living Area and Sale Price\")\n",
    "plt.show()"
   ]
  },
  {
   "cell_type": "markdown",
   "id": "d1b24d67",
   "metadata": {
    "papermill": {
     "duration": 0.022027,
     "end_time": "2023-12-29T07:15:56.687960",
     "exception": false,
     "start_time": "2023-12-29T07:15:56.665933",
     "status": "completed"
    },
    "tags": []
   },
   "source": [
    "#### The residual plot looks heteroscedastic (cone shaped) and it also contains outliers which could indicate that our dataset is not a good candidate for regression models, however let's look at another continuous variables' residual plot.\n",
    "\n",
    "#### What could indicate a good linear relationship is If the residuals are equally and randomly spaced around the horizontal axis, and the spread of residuals is roughly constant across all levels of the independent variable, a linear regression model is a good choice. which is the case for homoscedasticity."
   ]
  },
  {
   "cell_type": "code",
   "execution_count": 24,
   "id": "23ed63bb",
   "metadata": {
    "execution": {
     "iopub.execute_input": "2023-12-29T07:15:56.733329Z",
     "iopub.status.busy": "2023-12-29T07:15:56.732879Z",
     "iopub.status.idle": "2023-12-29T07:15:58.679001Z",
     "shell.execute_reply": "2023-12-29T07:15:58.678317Z"
    },
    "papermill": {
     "duration": 1.97134,
     "end_time": "2023-12-29T07:15:58.680690",
     "exception": false,
     "start_time": "2023-12-29T07:15:56.709350",
     "status": "completed"
    },
    "tags": []
   },
   "outputs": [
    {
     "data": {
      "image/png": "[encoded data removed]",
      "text/plain": [
       "<Figure size 640x480 with 1 Axes>"
      ]
     },
     "metadata": {},
     "output_type": "display_data"
    }
   ],
   "source": [
    "sns.lineplot(x = df['YearBuilt'], y = df['SalePrice'],)\n",
    "plt.title(\"how YearBuilt affects SalePrice\")\n",
    "plt.show()"
   ]
  },
  {
   "cell_type": "markdown",
   "id": "e5d5aa35",
   "metadata": {
    "papermill": {
     "duration": 0.024163,
     "end_time": "2023-12-29T07:15:58.727601",
     "exception": false,
     "start_time": "2023-12-29T07:15:58.703438",
     "status": "completed"
    },
    "tags": []
   },
   "source": [
    "#### As we can see, houses built after 1980 tends to have higher sale price."
   ]
  },
  {
   "cell_type": "markdown",
   "id": "fd1be648",
   "metadata": {
    "papermill": {
     "duration": 0.022429,
     "end_time": "2023-12-29T07:15:58.773046",
     "exception": false,
     "start_time": "2023-12-29T07:15:58.750617",
     "status": "completed"
    },
    "tags": []
   },
   "source": [
    "## 'GarageCars' Analysis"
   ]
  },
  {
   "cell_type": "code",
   "execution_count": 25,
   "id": "8176e91e",
   "metadata": {
    "execution": {
     "iopub.execute_input": "2023-12-29T07:15:58.823695Z",
     "iopub.status.busy": "2023-12-29T07:15:58.822894Z",
     "iopub.status.idle": "2023-12-29T07:15:59.110243Z",
     "shell.execute_reply": "2023-12-29T07:15:59.109283Z"
    },
    "papermill": {
     "duration": 0.315241,
     "end_time": "2023-12-29T07:15:59.112674",
     "exception": false,
     "start_time": "2023-12-29T07:15:58.797433",
     "status": "completed"
    },
    "tags": []
   },
   "outputs": [
    {
     "data": {
      "image/png": "[encoded data removed]",
      "text/plain": [
       "<Figure size 640x480 with 1 Axes>"
      ]
     },
     "metadata": {},
     "output_type": "display_data"
    }
   ],
   "source": [
    "sns.barplot(x = df['GarageCars'], y = df['SalePrice'])\n",
    "plt.title(\"Size of garage in car capacity and Sale Price\")\n",
    "plt.show()"
   ]
  },
  {
   "cell_type": "markdown",
   "id": "2446585b",
   "metadata": {
    "papermill": {
     "duration": 0.023148,
     "end_time": "2023-12-29T07:15:59.160416",
     "exception": false,
     "start_time": "2023-12-29T07:15:59.137268",
     "status": "completed"
    },
    "tags": []
   },
   "source": [
    "#### As we can observe, up to 3 GarageCars have a positive correlation with SalePrice, but 4 somehow is worse than 3 GarageCars."
   ]
  },
  {
   "cell_type": "markdown",
   "id": "5c261b62",
   "metadata": {
    "papermill": {
     "duration": 0.023394,
     "end_time": "2023-12-29T07:15:59.208464",
     "exception": false,
     "start_time": "2023-12-29T07:15:59.185070",
     "status": "completed"
    },
    "tags": []
   },
   "source": [
    "## 'GarageArea' Analysis"
   ]
  },
  {
   "cell_type": "code",
   "execution_count": 26,
   "id": "878a4c7c",
   "metadata": {
    "execution": {
     "iopub.execute_input": "2023-12-29T07:15:59.257294Z",
     "iopub.status.busy": "2023-12-29T07:15:59.256703Z",
     "iopub.status.idle": "2023-12-29T07:15:59.490827Z",
     "shell.execute_reply": "2023-12-29T07:15:59.489478Z"
    },
    "papermill": {
     "duration": 0.260691,
     "end_time": "2023-12-29T07:15:59.492943",
     "exception": false,
     "start_time": "2023-12-29T07:15:59.232252",
     "status": "completed"
    },
    "tags": []
   },
   "outputs": [
    {
     "data": {
      "image/png": "[encoded data removed]",
      "text/plain": [
       "<Figure size 640x480 with 1 Axes>"
      ]
     },
     "metadata": {},
     "output_type": "display_data"
    }
   ],
   "source": [
    "sns.residplot(x = df['GarageArea'], y = df['SalePrice'])\n",
    "plt.title(\"Total square feet of basement area and Sale Price\")\n",
    "plt.show()"
   ]
  },
  {
   "cell_type": "markdown",
   "id": "016a4fd5",
   "metadata": {
    "papermill": {
     "duration": 0.024569,
     "end_time": "2023-12-29T07:15:59.542764",
     "exception": false,
     "start_time": "2023-12-29T07:15:59.518195",
     "status": "completed"
    },
    "tags": []
   },
   "source": [
    "#### As we can see, the residuals also violates the rule of  homoscedasticity, which could indicates violation of an assumpation of linear regression."
   ]
  },
  {
   "cell_type": "markdown",
   "id": "60e3e64d",
   "metadata": {
    "papermill": {
     "duration": 0.024616,
     "end_time": "2023-12-29T07:15:59.591524",
     "exception": false,
     "start_time": "2023-12-29T07:15:59.566908",
     "status": "completed"
    },
    "tags": []
   },
   "source": [
    "## 'TotalBsmtSF' (Total square feet of basement area) Analysis"
   ]
  },
  {
   "cell_type": "code",
   "execution_count": 27,
   "id": "4f9404fa",
   "metadata": {
    "execution": {
     "iopub.execute_input": "2023-12-29T07:15:59.641255Z",
     "iopub.status.busy": "2023-12-29T07:15:59.640859Z",
     "iopub.status.idle": "2023-12-29T07:15:59.966868Z",
     "shell.execute_reply": "2023-12-29T07:15:59.965899Z"
    },
    "papermill": {
     "duration": 0.353201,
     "end_time": "2023-12-29T07:15:59.968732",
     "exception": false,
     "start_time": "2023-12-29T07:15:59.615531",
     "status": "completed"
    },
    "tags": []
   },
   "outputs": [
    {
     "data": {
      "image/png": "[encoded data removed]",
      "text/plain": [
       "<Figure size 640x480 with 1 Axes>"
      ]
     },
     "metadata": {},
     "output_type": "display_data"
    }
   ],
   "source": [
    "sns.scatterplot(x = df['TotalBsmtSF'], y = df['SalePrice'])\n",
    "plt.title(\" Size of garage in square feet and Sale Price\")\n",
    "plt.show()"
   ]
  },
  {
   "cell_type": "markdown",
   "id": "2e770086",
   "metadata": {
    "papermill": {
     "duration": 0.024584,
     "end_time": "2023-12-29T07:16:00.018342",
     "exception": false,
     "start_time": "2023-12-29T07:15:59.993758",
     "status": "completed"
    },
    "tags": []
   },
   "source": [
    "## OverallQual' and 'OveralCond' Analysis"
   ]
  },
  {
   "cell_type": "code",
   "execution_count": 28,
   "id": "6445a854",
   "metadata": {
    "execution": {
     "iopub.execute_input": "2023-12-29T07:16:00.071479Z",
     "iopub.status.busy": "2023-12-29T07:16:00.071086Z",
     "iopub.status.idle": "2023-12-29T07:16:03.901274Z",
     "shell.execute_reply": "2023-12-29T07:16:03.900304Z"
    },
    "papermill": {
     "duration": 3.859577,
     "end_time": "2023-12-29T07:16:03.903129",
     "exception": false,
     "start_time": "2023-12-29T07:16:00.043552",
     "status": "completed"
    },
    "tags": []
   },
   "outputs": [
    {
     "data": {
      "image/png": "[encoded data removed]",
      "text/plain": [
       "<Figure size 640x480 with 1 Axes>"
      ]
     },
     "metadata": {},
     "output_type": "display_data"
    }
   ],
   "source": [
    "#Let's see how 'OverallQual' and 'OveralCond' differs, since higher condition could also mean higher quality.\n",
    "sns.lineplot(data=df, x='YearBuilt', y='OverallCond', ci=False, label='Overall Condition')\n",
    "sns.lineplot(data=df, x='YearBuilt', y='OverallQual', ci=False, label='Overall Quality')\n",
    "\n",
    "plt.title('Overall Condition and Quality throughout the years')\n",
    "plt.ylabel(\"Condition / Quality\")\n",
    "plt.legend()\n",
    "plt.show()"
   ]
  },
  {
   "cell_type": "markdown",
   "id": "a883715b",
   "metadata": {
    "papermill": {
     "duration": 0.024792,
     "end_time": "2023-12-29T07:16:03.952978",
     "exception": false,
     "start_time": "2023-12-29T07:16:03.928186",
     "status": "completed"
    },
    "tags": []
   },
   "source": [
    "#### Turns out that overallCond and overallQual doesn't represent one another very well, as the lines can be easily distinguished from each other, therefore, we will be using both of them."
   ]
  },
  {
   "cell_type": "markdown",
   "id": "53589b3d",
   "metadata": {
    "papermill": {
     "duration": 0.024886,
     "end_time": "2023-12-29T07:16:04.002841",
     "exception": false,
     "start_time": "2023-12-29T07:16:03.977955",
     "status": "completed"
    },
    "tags": []
   },
   "source": [
    "## 'Street' (Type of road access) Analysis"
   ]
  },
  {
   "cell_type": "code",
   "execution_count": 29,
   "id": "9547c7db",
   "metadata": {
    "execution": {
     "iopub.execute_input": "2023-12-29T07:16:04.055293Z",
     "iopub.status.busy": "2023-12-29T07:16:04.054631Z",
     "iopub.status.idle": "2023-12-29T07:16:04.200498Z",
     "shell.execute_reply": "2023-12-29T07:16:04.199322Z"
    },
    "papermill": {
     "duration": 0.174421,
     "end_time": "2023-12-29T07:16:04.202515",
     "exception": false,
     "start_time": "2023-12-29T07:16:04.028094",
     "status": "completed"
    },
    "tags": []
   },
   "outputs": [
    {
     "data": {
      "image/png": "[encoded data removed]",
      "text/plain": [
       "<Figure size 640x480 with 1 Axes>"
      ]
     },
     "metadata": {},
     "output_type": "display_data"
    }
   ],
   "source": [
    "sns.countplot(x = df['Street'])\n",
    "plt.title(\"'Street' categories Count\")\n",
    "plt.show()"
   ]
  },
  {
   "cell_type": "markdown",
   "id": "f0fc31b4",
   "metadata": {
    "papermill": {
     "duration": 0.025606,
     "end_time": "2023-12-29T07:16:04.253826",
     "exception": false,
     "start_time": "2023-12-29T07:16:04.228220",
     "status": "completed"
    },
    "tags": []
   },
   "source": [
    "#### Since this feature is highly/quasi constant which indicates that , we should drop it. Why? highly constant features mean that we have little to no information to gain from it."
   ]
  },
  {
   "cell_type": "code",
   "execution_count": 30,
   "id": "4daa27c0",
   "metadata": {
    "execution": {
     "iopub.execute_input": "2023-12-29T07:16:04.307712Z",
     "iopub.status.busy": "2023-12-29T07:16:04.307011Z",
     "iopub.status.idle": "2023-12-29T07:16:04.313713Z",
     "shell.execute_reply": "2023-12-29T07:16:04.313052Z"
    },
    "papermill": {
     "duration": 0.036306,
     "end_time": "2023-12-29T07:16:04.315756",
     "exception": false,
     "start_time": "2023-12-29T07:16:04.279450",
     "status": "completed"
    },
    "tags": []
   },
   "outputs": [],
   "source": [
    "df.drop('Street', axis = 1, inplace = True)"
   ]
  },
  {
   "cell_type": "markdown",
   "id": "33dd8adb",
   "metadata": {
    "papermill": {
     "duration": 0.025945,
     "end_time": "2023-12-29T07:16:04.367929",
     "exception": false,
     "start_time": "2023-12-29T07:16:04.341984",
     "status": "completed"
    },
    "tags": []
   },
   "source": [
    "## Univariate Outlier Analysis"
   ]
  },
  {
   "cell_type": "code",
   "execution_count": 31,
   "id": "d25c2c13",
   "metadata": {
    "execution": {
     "iopub.execute_input": "2023-12-29T07:16:04.423372Z",
     "iopub.status.busy": "2023-12-29T07:16:04.422832Z",
     "iopub.status.idle": "2023-12-29T07:16:04.485366Z",
     "shell.execute_reply": "2023-12-29T07:16:04.484518Z"
    },
    "papermill": {
     "duration": 0.093092,
     "end_time": "2023-12-29T07:16:04.487152",
     "exception": false,
     "start_time": "2023-12-29T07:16:04.394060",
     "status": "completed"
    },
    "tags": []
   },
   "outputs": [
    {
     "name": "stdout",
     "output_type": "stream",
     "text": [
      "Univariate outlier analysis :\n"
     ]
    },
    {
     "data": {
      "text/html": [
       "<div>\n",
       "<style scoped>\n",
       "    .dataframe tbody tr th:only-of-type {\n",
       "        vertical-align: middle;\n",
       "    }\n",
       "\n",
       "    .dataframe tbody tr th {\n",
       "        vertical-align: top;\n",
       "    }\n",
       "\n",
       "    .dataframe thead th {\n",
       "        text-align: right;\n",
       "    }\n",
       "</style>\n",
       "<table border=\"1\" class=\"dataframe\">\n",
       "  <thead>\n",
       "    <tr style=\"text-align: right;\">\n",
       "      <th></th>\n",
       "      <th>features</th>\n",
       "      <th>outlier count</th>\n",
       "    </tr>\n",
       "  </thead>\n",
       "  <tbody>\n",
       "    <tr>\n",
       "      <th>0</th>\n",
       "      <td>MSSubClass</td>\n",
       "      <td>103</td>\n",
       "    </tr>\n",
       "    <tr>\n",
       "      <th>1</th>\n",
       "      <td>LotArea</td>\n",
       "      <td>69</td>\n",
       "    </tr>\n",
       "    <tr>\n",
       "      <th>2</th>\n",
       "      <td>OverallQual</td>\n",
       "      <td>2</td>\n",
       "    </tr>\n",
       "    <tr>\n",
       "      <th>3</th>\n",
       "      <td>OverallCond</td>\n",
       "      <td>125</td>\n",
       "    </tr>\n",
       "    <tr>\n",
       "      <th>4</th>\n",
       "      <td>YearBuilt</td>\n",
       "      <td>7</td>\n",
       "    </tr>\n",
       "    <tr>\n",
       "      <th>6</th>\n",
       "      <td>BsmtFinSF1</td>\n",
       "      <td>7</td>\n",
       "    </tr>\n",
       "    <tr>\n",
       "      <th>7</th>\n",
       "      <td>BsmtFinSF2</td>\n",
       "      <td>167</td>\n",
       "    </tr>\n",
       "    <tr>\n",
       "      <th>8</th>\n",
       "      <td>BsmtUnfSF</td>\n",
       "      <td>29</td>\n",
       "    </tr>\n",
       "    <tr>\n",
       "      <th>9</th>\n",
       "      <td>TotalBsmtSF</td>\n",
       "      <td>61</td>\n",
       "    </tr>\n",
       "    <tr>\n",
       "      <th>10</th>\n",
       "      <td>1stFlrSF</td>\n",
       "      <td>20</td>\n",
       "    </tr>\n",
       "    <tr>\n",
       "      <th>11</th>\n",
       "      <td>2ndFlrSF</td>\n",
       "      <td>2</td>\n",
       "    </tr>\n",
       "    <tr>\n",
       "      <th>12</th>\n",
       "      <td>LowQualFinSF</td>\n",
       "      <td>26</td>\n",
       "    </tr>\n",
       "    <tr>\n",
       "      <th>13</th>\n",
       "      <td>GrLivArea</td>\n",
       "      <td>31</td>\n",
       "    </tr>\n",
       "    <tr>\n",
       "      <th>14</th>\n",
       "      <td>BsmtFullBath</td>\n",
       "      <td>1</td>\n",
       "    </tr>\n",
       "    <tr>\n",
       "      <th>15</th>\n",
       "      <td>BsmtHalfBath</td>\n",
       "      <td>82</td>\n",
       "    </tr>\n",
       "    <tr>\n",
       "      <th>18</th>\n",
       "      <td>BedroomAbvGr</td>\n",
       "      <td>35</td>\n",
       "    </tr>\n",
       "    <tr>\n",
       "      <th>19</th>\n",
       "      <td>KitchenAbvGr</td>\n",
       "      <td>68</td>\n",
       "    </tr>\n",
       "    <tr>\n",
       "      <th>20</th>\n",
       "      <td>TotRmsAbvGrd</td>\n",
       "      <td>30</td>\n",
       "    </tr>\n",
       "    <tr>\n",
       "      <th>21</th>\n",
       "      <td>Fireplaces</td>\n",
       "      <td>5</td>\n",
       "    </tr>\n",
       "    <tr>\n",
       "      <th>22</th>\n",
       "      <td>GarageCars</td>\n",
       "      <td>5</td>\n",
       "    </tr>\n",
       "    <tr>\n",
       "      <th>23</th>\n",
       "      <td>GarageArea</td>\n",
       "      <td>21</td>\n",
       "    </tr>\n",
       "    <tr>\n",
       "      <th>24</th>\n",
       "      <td>WoodDeckSF</td>\n",
       "      <td>32</td>\n",
       "    </tr>\n",
       "    <tr>\n",
       "      <th>25</th>\n",
       "      <td>OpenPorchSF</td>\n",
       "      <td>77</td>\n",
       "    </tr>\n",
       "    <tr>\n",
       "      <th>26</th>\n",
       "      <td>EnclosedPorch</td>\n",
       "      <td>208</td>\n",
       "    </tr>\n",
       "    <tr>\n",
       "      <th>27</th>\n",
       "      <td>3SsnPorch</td>\n",
       "      <td>24</td>\n",
       "    </tr>\n",
       "    <tr>\n",
       "      <th>28</th>\n",
       "      <td>ScreenPorch</td>\n",
       "      <td>116</td>\n",
       "    </tr>\n",
       "    <tr>\n",
       "      <th>29</th>\n",
       "      <td>PoolArea</td>\n",
       "      <td>7</td>\n",
       "    </tr>\n",
       "    <tr>\n",
       "      <th>30</th>\n",
       "      <td>MiscVal</td>\n",
       "      <td>52</td>\n",
       "    </tr>\n",
       "  </tbody>\n",
       "</table>\n",
       "</div>"
      ],
      "text/plain": [
       "         features  outlier count\n",
       "0      MSSubClass            103\n",
       "1         LotArea             69\n",
       "2     OverallQual              2\n",
       "3     OverallCond            125\n",
       "4       YearBuilt              7\n",
       "6      BsmtFinSF1              7\n",
       "7      BsmtFinSF2            167\n",
       "8       BsmtUnfSF             29\n",
       "9     TotalBsmtSF             61\n",
       "10       1stFlrSF             20\n",
       "11       2ndFlrSF              2\n",
       "12   LowQualFinSF             26\n",
       "13      GrLivArea             31\n",
       "14   BsmtFullBath              1\n",
       "15   BsmtHalfBath             82\n",
       "18   BedroomAbvGr             35\n",
       "19   KitchenAbvGr             68\n",
       "20   TotRmsAbvGrd             30\n",
       "21     Fireplaces              5\n",
       "22     GarageCars              5\n",
       "23     GarageArea             21\n",
       "24     WoodDeckSF             32\n",
       "25    OpenPorchSF             77\n",
       "26  EnclosedPorch            208\n",
       "27      3SsnPorch             24\n",
       "28    ScreenPorch            116\n",
       "29       PoolArea              7\n",
       "30        MiscVal             52"
      ]
     },
     "execution_count": 31,
     "metadata": {},
     "output_type": "execute_result"
    }
   ],
   "source": [
    "#Univariate outlier analysis using IQR for numerical data\n",
    "#for numerical data, it is better to use IQR method, since we have lots of skewed data.\n",
    "\n",
    "#IQR = Q3 - Q1\n",
    "#lower = Q1 - 1.5 IQR\n",
    "#Upper = Q3 + 1.5 IQR\n",
    "\n",
    "num_df = df.select_dtypes(include=['number'])\n",
    "target = num_df['SalePrice']\n",
    "num_df.drop('SalePrice', axis = 1, inplace = True)\n",
    "temp_dict = []\n",
    "\n",
    "for var in num_df:\n",
    "    q1 = num_df[var].quantile(0.25)\n",
    "    q3 = num_df[var].quantile(0.75)\n",
    "    iqr = q3-q1\n",
    "    \n",
    "    outliers = num_df[var][((num_df[var] < (q1 - iqr*1.5)) | (num_df[var] > (q3+1.5*iqr)) )]\n",
    "    \n",
    "    outliers_dict = {'features' : var, 'outlier count' : len(outliers)}\n",
    "    temp_dict.append(outliers_dict)\n",
    "\n",
    "uni_outlier_df = pd.DataFrame.from_dict(temp_dict)\n",
    "print('Univariate outlier analysis :')\n",
    "uni_outlier_df = uni_outlier_df[uni_outlier_df['outlier count'] > 0]\n",
    "uni_outlier_df"
   ]
  },
  {
   "cell_type": "markdown",
   "id": "ad770208",
   "metadata": {
    "papermill": {
     "duration": 0.026252,
     "end_time": "2023-12-29T07:16:04.539822",
     "exception": false,
     "start_time": "2023-12-29T07:16:04.513570",
     "status": "completed"
    },
    "tags": []
   },
   "source": [
    "#### As we can see, we have lots of outliers, but we won't remove/impute it because we will be using tree algorithms/models which are robust to outliers."
   ]
  },
  {
   "cell_type": "markdown",
   "id": "b9d10ce6",
   "metadata": {
    "papermill": {
     "duration": 0.026105,
     "end_time": "2023-12-29T07:16:04.592541",
     "exception": false,
     "start_time": "2023-12-29T07:16:04.566436",
     "status": "completed"
    },
    "tags": []
   },
   "source": [
    "# Feature Engineering + Feature Selection"
   ]
  },
  {
   "cell_type": "markdown",
   "id": "3f1c6916",
   "metadata": {
    "papermill": {
     "duration": 0.026296,
     "end_time": "2023-12-29T07:16:04.645167",
     "exception": false,
     "start_time": "2023-12-29T07:16:04.618871",
     "status": "completed"
    },
    "tags": []
   },
   "source": [
    "#### Before we proceed with feat eng and feat sel, it is a good practice to first split our dataset, so we won't have any information leak from our train to test set."
   ]
  },
  {
   "cell_type": "code",
   "execution_count": 32,
   "id": "f952ab05",
   "metadata": {
    "execution": {
     "iopub.execute_input": "2023-12-29T07:16:04.703484Z",
     "iopub.status.busy": "2023-12-29T07:16:04.703080Z",
     "iopub.status.idle": "2023-12-29T07:16:04.714587Z",
     "shell.execute_reply": "2023-12-29T07:16:04.713802Z"
    },
    "papermill": {
     "duration": 0.043127,
     "end_time": "2023-12-29T07:16:04.716542",
     "exception": false,
     "start_time": "2023-12-29T07:16:04.673415",
     "status": "completed"
    },
    "tags": []
   },
   "outputs": [],
   "source": [
    "from sklearn.model_selection import train_test_split\n",
    "X_train, X_test, y_train, y_test = train_test_split(df.drop('SalePrice', axis = 1),\n",
    "                                                           trans1, test_size= 0.31,\n",
    "                                                           random_state = 42)"
   ]
  },
  {
   "cell_type": "markdown",
   "id": "dd546913",
   "metadata": {
    "papermill": {
     "duration": 0.025706,
     "end_time": "2023-12-29T07:16:04.768634",
     "exception": false,
     "start_time": "2023-12-29T07:16:04.742928",
     "status": "completed"
    },
    "tags": []
   },
   "source": [
    "## Quasi Constant / Highly Constant Features Selection"
   ]
  },
  {
   "cell_type": "markdown",
   "id": "2ee8176d",
   "metadata": {
    "papermill": {
     "duration": 0.025187,
     "end_time": "2023-12-29T07:16:04.819413",
     "exception": false,
     "start_time": "2023-12-29T07:16:04.794226",
     "status": "completed"
    },
    "tags": []
   },
   "source": [
    "#### To save time we should implement a library to help us drop all the features that are highly constant, rather than checking all the features one by one."
   ]
  },
  {
   "cell_type": "code",
   "execution_count": 33,
   "id": "7adcb0cc",
   "metadata": {
    "execution": {
     "iopub.execute_input": "2023-12-29T07:16:04.873259Z",
     "iopub.status.busy": "2023-12-29T07:16:04.872283Z",
     "iopub.status.idle": "2023-12-29T07:16:04.950703Z",
     "shell.execute_reply": "2023-12-29T07:16:04.949168Z"
    },
    "papermill": {
     "duration": 0.108042,
     "end_time": "2023-12-29T07:16:04.953189",
     "exception": false,
     "start_time": "2023-12-29T07:16:04.845147",
     "status": "completed"
    },
    "tags": []
   },
   "outputs": [],
   "source": [
    "from feature_engine.selection import DropConstantFeatures"
   ]
  },
  {
   "cell_type": "code",
   "execution_count": 34,
   "id": "8fc17d88",
   "metadata": {
    "execution": {
     "iopub.execute_input": "2023-12-29T07:16:05.006535Z",
     "iopub.status.busy": "2023-12-29T07:16:05.006005Z",
     "iopub.status.idle": "2023-12-29T07:16:05.062393Z",
     "shell.execute_reply": "2023-12-29T07:16:05.061254Z"
    },
    "papermill": {
     "duration": 0.085325,
     "end_time": "2023-12-29T07:16:05.064464",
     "exception": false,
     "start_time": "2023-12-29T07:16:04.979139",
     "status": "completed"
    },
    "tags": []
   },
   "outputs": [
    {
     "data": {
      "text/html": [
       "<style>#sk-container-id-1 {color: black;background-color: white;}#sk-container-id-1 pre{padding: 0;}#sk-container-id-1 div.sk-toggleable {background-color: white;}#sk-container-id-1 label.sk-toggleable__label {cursor: pointer;display: block;width: 100%;margin-bottom: 0;padding: 0.3em;box-sizing: border-box;text-align: center;}#sk-container-id-1 label.sk-toggleable__label-arrow:before {content: \"▸\";float: left;margin-right: 0.25em;color: #696969;}#sk-container-id-1 label.sk-toggleable__label-arrow:hover:before {color: black;}#sk-container-id-1 div.sk-estimator:hover label.sk-toggleable__label-arrow:before {color: black;}#sk-container-id-1 div.sk-toggleable__content {max-height: 0;max-width: 0;overflow: hidden;text-align: left;background-color: #f0f8ff;}#sk-container-id-1 div.sk-toggleable__content pre {margin: 0.2em;color: black;border-radius: 0.25em;background-color: #f0f8ff;}#sk-container-id-1 input.sk-toggleable__control:checked~div.sk-toggleable__content {max-height: 200px;max-width: 100%;overflow: auto;}#sk-container-id-1 input.sk-toggleable__control:checked~label.sk-toggleable__label-arrow:before {content: \"▾\";}#sk-container-id-1 div.sk-estimator input.sk-toggleable__control:checked~label.sk-toggleable__label {background-color: #d4ebff;}#sk-container-id-1 div.sk-label input.sk-toggleable__control:checked~label.sk-toggleable__label {background-color: #d4ebff;}#sk-container-id-1 input.sk-hidden--visually {border: 0;clip: rect(1px 1px 1px 1px);clip: rect(1px, 1px, 1px, 1px);height: 1px;margin: -1px;overflow: hidden;padding: 0;position: absolute;width: 1px;}#sk-container-id-1 div.sk-estimator {font-family: monospace;background-color: #f0f8ff;border: 1px dotted black;border-radius: 0.25em;box-sizing: border-box;margin-bottom: 0.5em;}#sk-container-id-1 div.sk-estimator:hover {background-color: #d4ebff;}#sk-container-id-1 div.sk-parallel-item::after {content: \"\";width: 100%;border-bottom: 1px solid gray;flex-grow: 1;}#sk-container-id-1 div.sk-label:hover label.sk-toggleable__label {background-color: #d4ebff;}#sk-container-id-1 div.sk-serial::before {content: \"\";position: absolute;border-left: 1px solid gray;box-sizing: border-box;top: 0;bottom: 0;left: 50%;z-index: 0;}#sk-container-id-1 div.sk-serial {display: flex;flex-direction: column;align-items: center;background-color: white;padding-right: 0.2em;padding-left: 0.2em;position: relative;}#sk-container-id-1 div.sk-item {position: relative;z-index: 1;}#sk-container-id-1 div.sk-parallel {display: flex;align-items: stretch;justify-content: center;background-color: white;position: relative;}#sk-container-id-1 div.sk-item::before, #sk-container-id-1 div.sk-parallel-item::before {content: \"\";position: absolute;border-left: 1px solid gray;box-sizing: border-box;top: 0;bottom: 0;left: 50%;z-index: -1;}#sk-container-id-1 div.sk-parallel-item {display: flex;flex-direction: column;z-index: 1;position: relative;background-color: white;}#sk-container-id-1 div.sk-parallel-item:first-child::after {align-self: flex-end;width: 50%;}#sk-container-id-1 div.sk-parallel-item:last-child::after {align-self: flex-start;width: 50%;}#sk-container-id-1 div.sk-parallel-item:only-child::after {width: 0;}#sk-container-id-1 div.sk-dashed-wrapped {border: 1px dashed gray;margin: 0 0.4em 0.5em 0.4em;box-sizing: border-box;padding-bottom: 0.4em;background-color: white;}#sk-container-id-1 div.sk-label label {font-family: monospace;font-weight: bold;display: inline-block;line-height: 1.2em;}#sk-container-id-1 div.sk-label-container {text-align: center;}#sk-container-id-1 div.sk-container {/* jupyter's `normalize.less` sets `[hidden] { display: none; }` but bootstrap.min.css set `[hidden] { display: none !important; }` so we also need the `!important` here to be able to override the default hidden behavior on the sphinx rendered scikit-learn.org. See: https://github.com/scikit-learn/scikit-learn/issues/21755 */display: inline-block !important;position: relative;}#sk-container-id-1 div.sk-text-repr-fallback {display: none;}</style><div id=\"sk-container-id-1\" class=\"sk-top-container\"><div class=\"sk-text-repr-fallback\"><pre>DropConstantFeatures(tol=0.98)</pre><b>In a Jupyter environment, please rerun this cell to show the HTML representation or trust the notebook. <br />On GitHub, the HTML representation is unable to render, please try loading this page with nbviewer.org.</b></div><div class=\"sk-container\" hidden><div class=\"sk-item\"><div class=\"sk-estimator sk-toggleable\"><input class=\"sk-toggleable__control sk-hidden--visually\" id=\"sk-estimator-id-1\" type=\"checkbox\" checked><label for=\"sk-estimator-id-1\" class=\"sk-toggleable__label sk-toggleable__label-arrow\">DropConstantFeatures</label><div class=\"sk-toggleable__content\"><pre>DropConstantFeatures(tol=0.98)</pre></div></div></div></div></div>"
      ],
      "text/plain": [
       "DropConstantFeatures(tol=0.98)"
      ]
     },
     "execution_count": 34,
     "metadata": {},
     "output_type": "execute_result"
    }
   ],
   "source": [
    "#Build the selector\n",
    "sel = DropConstantFeatures(tol = 0.98)\n",
    "sel.fit(X_train)"
   ]
  },
  {
   "cell_type": "code",
   "execution_count": 35,
   "id": "bb704ba1",
   "metadata": {
    "execution": {
     "iopub.execute_input": "2023-12-29T07:16:05.120027Z",
     "iopub.status.busy": "2023-12-29T07:16:05.119663Z",
     "iopub.status.idle": "2023-12-29T07:16:05.127109Z",
     "shell.execute_reply": "2023-12-29T07:16:05.126302Z"
    },
    "papermill": {
     "duration": 0.037863,
     "end_time": "2023-12-29T07:16:05.129359",
     "exception": false,
     "start_time": "2023-12-29T07:16:05.091496",
     "status": "completed"
    },
    "tags": []
   },
   "outputs": [
    {
     "name": "stdout",
     "output_type": "stream",
     "text": [
      "Highly constant features :\n"
     ]
    },
    {
     "data": {
      "text/plain": [
       "['LotFrontage',\n",
       " 'Utilities',\n",
       " 'Condition2',\n",
       " 'RoofMatl',\n",
       " 'MasVnrArea',\n",
       " 'LowQualFinSF',\n",
       " 'GarageYrBlt',\n",
       " '3SsnPorch',\n",
       " 'PoolArea',\n",
       " 'PoolQC']"
      ]
     },
     "execution_count": 35,
     "metadata": {},
     "output_type": "execute_result"
    }
   ],
   "source": [
    "print(\"Highly constant features :\")\n",
    "sel.features_to_drop_"
   ]
  },
  {
   "cell_type": "code",
   "execution_count": 36,
   "id": "d8439a35",
   "metadata": {
    "execution": {
     "iopub.execute_input": "2023-12-29T07:16:05.194598Z",
     "iopub.status.busy": "2023-12-29T07:16:05.193931Z",
     "iopub.status.idle": "2023-12-29T07:16:05.208619Z",
     "shell.execute_reply": "2023-12-29T07:16:05.207612Z"
    },
    "papermill": {
     "duration": 0.054524,
     "end_time": "2023-12-29T07:16:05.211009",
     "exception": false,
     "start_time": "2023-12-29T07:16:05.156485",
     "status": "completed"
    },
    "tags": []
   },
   "outputs": [],
   "source": [
    "#Drop those highly constant features\n",
    "X_train = sel.transform(X_train)\n",
    "X_test = sel.transform(X_test)"
   ]
  },
  {
   "cell_type": "markdown",
   "id": "85be5d0c",
   "metadata": {
    "papermill": {
     "duration": 0.027077,
     "end_time": "2023-12-29T07:16:05.269736",
     "exception": false,
     "start_time": "2023-12-29T07:16:05.242659",
     "status": "completed"
    },
    "tags": []
   },
   "source": [
    "## Encodings"
   ]
  },
  {
   "cell_type": "code",
   "execution_count": 37,
   "id": "660a1c01",
   "metadata": {
    "execution": {
     "iopub.execute_input": "2023-12-29T07:16:05.326361Z",
     "iopub.status.busy": "2023-12-29T07:16:05.325985Z",
     "iopub.status.idle": "2023-12-29T07:16:05.332485Z",
     "shell.execute_reply": "2023-12-29T07:16:05.330828Z"
    },
    "papermill": {
     "duration": 0.037787,
     "end_time": "2023-12-29T07:16:05.334814",
     "exception": false,
     "start_time": "2023-12-29T07:16:05.297027",
     "status": "completed"
    },
    "tags": []
   },
   "outputs": [],
   "source": [
    "#in here, we need to create lists of ordinal variables based on their ranking, so we can fit the to our encoder\n",
    "ordinal = ['Fence', 'GarageCond', 'GarageQual', 'GarageFinish','FireplaceQu','KitchenQual','HeatingQC','BsmtFinType2',\n",
    "           'BsmtFinType1','BsmtExposure','BsmtCond', 'BsmtQual','ExterCond',\n",
    "          'ExterQual']\n",
    "nominal = ['MSZoning','Alley','LotShape','LandContour','LotConfig','LandSlope','Neighborhood','Condition1',\n",
    "          'BldgType','HouseStyle','RoofStyle','Exterior1st','Exterior2nd','Foundation','Heating',\n",
    "          'CentralAir','Electrical','Functional','GarageType','PavedDrive','MiscFeature','SaleType','SaleCondition']"
   ]
  },
  {
   "cell_type": "markdown",
   "id": "e4d8a304",
   "metadata": {
    "papermill": {
     "duration": 0.026132,
     "end_time": "2023-12-29T07:16:05.387381",
     "exception": false,
     "start_time": "2023-12-29T07:16:05.361249",
     "status": "completed"
    },
    "tags": []
   },
   "source": [
    "#### We will use mean encoding for nominal categorical and ordinal encoder for ordinal categorical, to prevent curse of dimensionality and overfitting."
   ]
  },
  {
   "cell_type": "code",
   "execution_count": 38,
   "id": "38b6098f",
   "metadata": {
    "execution": {
     "iopub.execute_input": "2023-12-29T07:16:05.443185Z",
     "iopub.status.busy": "2023-12-29T07:16:05.442833Z",
     "iopub.status.idle": "2023-12-29T07:16:05.846498Z",
     "shell.execute_reply": "2023-12-29T07:16:05.844944Z"
    },
    "papermill": {
     "duration": 0.43488,
     "end_time": "2023-12-29T07:16:05.848839",
     "exception": false,
     "start_time": "2023-12-29T07:16:05.413959",
     "status": "completed"
    },
    "tags": []
   },
   "outputs": [],
   "source": [
    "from category_encoders import OrdinalEncoder\n",
    "ord_enc = OrdinalEncoder(cols = ordinal)"
   ]
  },
  {
   "cell_type": "code",
   "execution_count": 39,
   "id": "303fe5f5",
   "metadata": {
    "execution": {
     "iopub.execute_input": "2023-12-29T07:16:05.903775Z",
     "iopub.status.busy": "2023-12-29T07:16:05.903441Z",
     "iopub.status.idle": "2023-12-29T07:16:05.996927Z",
     "shell.execute_reply": "2023-12-29T07:16:05.996046Z"
    },
    "papermill": {
     "duration": 0.123509,
     "end_time": "2023-12-29T07:16:05.999402",
     "exception": false,
     "start_time": "2023-12-29T07:16:05.875893",
     "status": "completed"
    },
    "tags": []
   },
   "outputs": [],
   "source": [
    "X_train = ord_enc.fit_transform(X_train, y_train)\n",
    "X_test = ord_enc.transform(X_test, y_test)"
   ]
  },
  {
   "cell_type": "code",
   "execution_count": 40,
   "id": "c16b8193",
   "metadata": {
    "execution": {
     "iopub.execute_input": "2023-12-29T07:16:06.055621Z",
     "iopub.status.busy": "2023-12-29T07:16:06.055267Z",
     "iopub.status.idle": "2023-12-29T07:16:06.060987Z",
     "shell.execute_reply": "2023-12-29T07:16:06.059084Z"
    },
    "papermill": {
     "duration": 0.037786,
     "end_time": "2023-12-29T07:16:06.063557",
     "exception": false,
     "start_time": "2023-12-29T07:16:06.025771",
     "status": "completed"
    },
    "tags": []
   },
   "outputs": [],
   "source": [
    "from category_encoders import cat_boost\n",
    "enc = cat_boost.CatBoostEncoder(cols = nominal, random_state = 42)"
   ]
  },
  {
   "cell_type": "code",
   "execution_count": 41,
   "id": "70e15823",
   "metadata": {
    "execution": {
     "iopub.execute_input": "2023-12-29T07:16:06.121835Z",
     "iopub.status.busy": "2023-12-29T07:16:06.121438Z",
     "iopub.status.idle": "2023-12-29T07:16:06.361268Z",
     "shell.execute_reply": "2023-12-29T07:16:06.360040Z"
    },
    "papermill": {
     "duration": 0.271066,
     "end_time": "2023-12-29T07:16:06.363696",
     "exception": false,
     "start_time": "2023-12-29T07:16:06.092630",
     "status": "completed"
    },
    "tags": []
   },
   "outputs": [],
   "source": [
    "X_train = enc.fit_transform(X_train, y_train)\n",
    "X_test = enc.transform(X_test, y_test)"
   ]
  },
  {
   "cell_type": "markdown",
   "id": "1d78eed1",
   "metadata": {
    "papermill": {
     "duration": 0.027864,
     "end_time": "2023-12-29T07:16:06.418154",
     "exception": false,
     "start_time": "2023-12-29T07:16:06.390290",
     "status": "completed"
    },
    "tags": []
   },
   "source": [
    "## Model Selection"
   ]
  },
  {
   "cell_type": "markdown",
   "id": "0ccff6e6",
   "metadata": {
    "papermill": {
     "duration": 0.026474,
     "end_time": "2023-12-29T07:16:06.472433",
     "exception": false,
     "start_time": "2023-12-29T07:16:06.445959",
     "status": "completed"
    },
    "tags": []
   },
   "source": [
    "#### Let's test random forest against 2 boosting algorithms, random forest is known for it's robustness, while boosting algorithms are known for how well they performs at competitions"
   ]
  },
  {
   "cell_type": "code",
   "execution_count": 42,
   "id": "455e1c59",
   "metadata": {
    "execution": {
     "iopub.execute_input": "2023-12-29T07:16:06.527445Z",
     "iopub.status.busy": "2023-12-29T07:16:06.526996Z",
     "iopub.status.idle": "2023-12-29T07:16:42.046775Z",
     "shell.execute_reply": "2023-12-29T07:16:42.045675Z"
    },
    "papermill": {
     "duration": 35.575589,
     "end_time": "2023-12-29T07:16:42.074288",
     "exception": false,
     "start_time": "2023-12-29T07:16:06.498699",
     "status": "completed"
    },
    "tags": []
   },
   "outputs": [
    {
     "name": "stdout",
     "output_type": "stream",
     "text": [
      "   XGBoost Regressor  Random Forest  CatBoost Regressor  LGBM Regressor  \\\n",
      "0           0.181438       0.175264            0.140510        0.154062   \n",
      "1           0.150049       0.155096            0.127418        0.137865   \n",
      "2           0.161665       0.174560            0.148297        0.160738   \n",
      "3           0.137624       0.127982            0.113204        0.128753   \n",
      "4           0.164462       0.149433            0.115592        0.143644   \n",
      "\n",
      "   Support Vector Regressor  \n",
      "0                  0.239062  \n",
      "1                  0.203808  \n",
      "2                  0.233564  \n",
      "3                  0.182373  \n",
      "4                  0.210895  \n"
     ]
    },
    {
     "data": {
      "text/plain": [
       "XGBoost Regressor           0.159048\n",
       "Random Forest               0.156467\n",
       "CatBoost Regressor          0.129004\n",
       "LGBM Regressor              0.145012\n",
       "Support Vector Regressor    0.213940\n",
       "dtype: float64"
      ]
     },
     "execution_count": 42,
     "metadata": {},
     "output_type": "execute_result"
    }
   ],
   "source": [
    "from sklearn.model_selection import KFold, cross_val_score\n",
    "from sklearn.ensemble import RandomForestRegressor\n",
    "from xgboost import XGBRegressor\n",
    "from catboost import CatBoostRegressor\n",
    "from lightgbm import LGBMRegressor\n",
    "from sklearn.svm import SVR\n",
    "\n",
    "#We will do cross-validation with Kfold to choose our model.\n",
    "kfold = KFold(n_splits = 5, shuffle = True, random_state = 42)\n",
    "\n",
    "#make list of model\n",
    "models = [('XGBoost Regressor', XGBRegressor()),\n",
    "          ('Random Forest', RandomForestRegressor()),\n",
    "          ('CatBoost Regressor', CatBoostRegressor(silent=True)),\n",
    "          ('LGBM Regressor', LGBMRegressor()),\n",
    "          ('Support Vector Regressor', SVR())]\n",
    "\n",
    "#Kfold with cross_val_score\n",
    "model_name = []\n",
    "model_res = []\n",
    "\n",
    "for name,model in models :\n",
    "    scores = cross_val_score(model, X_train, y_train, cv = kfold, scoring = 'neg_root_mean_squared_error')\n",
    "    model_name.append(name)\n",
    "    model_res.append(np.abs(scores))\n",
    "\n",
    "df_res = pd.DataFrame(model_res, index = model_name)\n",
    "df_res = df_res.transpose()\n",
    "print(df_res)\n",
    "df_res.mean()"
   ]
  },
  {
   "cell_type": "markdown",
   "id": "783418d1",
   "metadata": {
    "papermill": {
     "duration": 0.02682,
     "end_time": "2023-12-29T07:16:42.128313",
     "exception": false,
     "start_time": "2023-12-29T07:16:42.101493",
     "status": "completed"
    },
    "tags": []
   },
   "source": [
    "#### Because we use tree algorithm for our modelling, we don't need to scale the continuous features, but let's try to compare the performance of our model with scaled and unscaled continuous features."
   ]
  },
  {
   "cell_type": "markdown",
   "id": "391f5263",
   "metadata": {
    "papermill": {
     "duration": 0.026595,
     "end_time": "2023-12-29T07:16:42.181508",
     "exception": false,
     "start_time": "2023-12-29T07:16:42.154913",
     "status": "completed"
    },
    "tags": []
   },
   "source": [
    "## Scaled vs unscaled comparison"
   ]
  },
  {
   "cell_type": "code",
   "execution_count": 43,
   "id": "3240d676",
   "metadata": {
    "execution": {
     "iopub.execute_input": "2023-12-29T07:16:42.236888Z",
     "iopub.status.busy": "2023-12-29T07:16:42.236535Z",
     "iopub.status.idle": "2023-12-29T07:17:17.424775Z",
     "shell.execute_reply": "2023-12-29T07:17:17.423579Z"
    },
    "papermill": {
     "duration": 35.239233,
     "end_time": "2023-12-29T07:17:17.447349",
     "exception": false,
     "start_time": "2023-12-29T07:16:42.208116",
     "status": "completed"
    },
    "scrolled": true,
    "tags": []
   },
   "outputs": [
    {
     "name": "stdout",
     "output_type": "stream",
     "text": [
      "   XGBoost Regressor  Random Forest  CatBoost Regressor  LGBM Regressor  \\\n",
      "0           0.181438       0.172676            0.140506        0.154768   \n",
      "1           0.150049       0.155296            0.127417        0.135273   \n",
      "2           0.161665       0.170592            0.148297        0.159582   \n",
      "3           0.137624       0.128997            0.113193        0.128494   \n",
      "4           0.164462       0.148149            0.115583        0.142983   \n",
      "\n",
      "   Support Vector Regressor  \n",
      "0                  0.351687  \n",
      "1                  0.333282  \n",
      "2                  0.367989  \n",
      "3                  0.334115  \n",
      "4                  0.358348  \n"
     ]
    },
    {
     "data": {
      "text/plain": [
       "XGBoost Regressor           0.159048\n",
       "Random Forest               0.155142\n",
       "CatBoost Regressor          0.128999\n",
       "LGBM Regressor              0.144220\n",
       "Support Vector Regressor    0.349084\n",
       "dtype: float64"
      ]
     },
     "execution_count": 43,
     "metadata": {},
     "output_type": "execute_result"
    }
   ],
   "source": [
    "#we will use robust scaler because of the nature of our data which has many outliers on it's features.\n",
    "cont_col = [ 'ScreenPorch', 'EnclosedPorch', 'OpenPorchSF', 'WoodDeckSF', 'GarageArea','GrLivArea'\n",
    "            ,'2ndFlrSF','1stFlrSF','TotalBsmtSF','BsmtUnfSF','BsmtFinSF2', 'BsmtFinSF1'\n",
    "            ,'YearRemodAdd','YearBuilt','MiscVal','MoSold','YrSold','TotRmsAbvGrd']\n",
    "\n",
    "\n",
    "from sklearn.preprocessing import RobustScaler\n",
    "scaler = RobustScaler()\n",
    "\n",
    "X_train_scaled = X_train.copy()\n",
    "X_train_scaled[cont_col] = scaler.fit_transform(X_train_scaled[cont_col])\n",
    "\n",
    "model_name_scaled = []\n",
    "model_res_scaled = []\n",
    "\n",
    "for name,model in models :\n",
    "    scores = cross_val_score(model, X_train_scaled, y_train, cv = kfold, scoring = 'neg_root_mean_squared_error')\n",
    "    model_name_scaled.append(name)\n",
    "    model_res_scaled.append(np.abs(scores))\n",
    "\n",
    "df_res_scaled = pd.DataFrame(model_res_scaled, index = model_name_scaled)\n",
    "df_res_scaled = df_res_scaled.transpose()\n",
    "print(df_res_scaled)\n",
    "df_res_scaled.mean()"
   ]
  },
  {
   "cell_type": "markdown",
   "id": "6c57cb1b",
   "metadata": {
    "papermill": {
     "duration": 0.02701,
     "end_time": "2023-12-29T07:17:17.502086",
     "exception": false,
     "start_time": "2023-12-29T07:17:17.475076",
     "status": "completed"
    },
    "tags": []
   },
   "source": [
    "#### As we can see, there is no signifcant change to our model performance, therefore we won't scale our continuous features."
   ]
  },
  {
   "cell_type": "code",
   "execution_count": 44,
   "id": "f0d54cc2",
   "metadata": {
    "execution": {
     "iopub.execute_input": "2023-12-29T07:17:17.558641Z",
     "iopub.status.busy": "2023-12-29T07:17:17.558300Z",
     "iopub.status.idle": "2023-12-29T07:17:17.565339Z",
     "shell.execute_reply": "2023-12-29T07:17:17.563331Z"
    },
    "papermill": {
     "duration": 0.038619,
     "end_time": "2023-12-29T07:17:17.567799",
     "exception": false,
     "start_time": "2023-12-29T07:17:17.529180",
     "status": "completed"
    },
    "tags": []
   },
   "outputs": [],
   "source": [
    "#Import metrics library\n",
    "from sklearn.metrics import mean_squared_error"
   ]
  },
  {
   "cell_type": "markdown",
   "id": "a8a9be4b",
   "metadata": {
    "papermill": {
     "duration": 0.027724,
     "end_time": "2023-12-29T07:17:17.623621",
     "exception": false,
     "start_time": "2023-12-29T07:17:17.595897",
     "status": "completed"
    },
    "tags": []
   },
   "source": [
    "#### Since Cat Boost Regressor performs the best, we should make a baseline model with it, and tune the hyperparameter afterward."
   ]
  },
  {
   "cell_type": "code",
   "execution_count": 45,
   "id": "abc05298",
   "metadata": {
    "execution": {
     "iopub.execute_input": "2023-12-29T07:17:17.681151Z",
     "iopub.status.busy": "2023-12-29T07:17:17.680805Z",
     "iopub.status.idle": "2023-12-29T07:17:21.432141Z",
     "shell.execute_reply": "2023-12-29T07:17:21.431255Z"
    },
    "papermill": {
     "duration": 3.782469,
     "end_time": "2023-12-29T07:17:21.434093",
     "exception": false,
     "start_time": "2023-12-29T07:17:17.651624",
     "status": "completed"
    },
    "tags": []
   },
   "outputs": [
    {
     "name": "stdout",
     "output_type": "stream",
     "text": [
      "result :  181511.1418646442\n"
     ]
    }
   ],
   "source": [
    "model = CatBoostRegressor(silent=True)\n",
    "model.fit(X_train,y_train)\n",
    "pred = model.predict(X_test)\n",
    "res = mean_squared_error(y_test,np.exp(pred), squared = False)\n",
    "print('result : ', res)"
   ]
  },
  {
   "cell_type": "code",
   "execution_count": 46,
   "id": "8ff85de4",
   "metadata": {
    "execution": {
     "iopub.execute_input": "2023-12-29T07:17:21.492849Z",
     "iopub.status.busy": "2023-12-29T07:17:21.492519Z",
     "iopub.status.idle": "2023-12-29T07:17:21.900768Z",
     "shell.execute_reply": "2023-12-29T07:17:21.899638Z"
    },
    "papermill": {
     "duration": 0.440875,
     "end_time": "2023-12-29T07:17:21.903582",
     "exception": false,
     "start_time": "2023-12-29T07:17:21.462707",
     "status": "completed"
    },
    "tags": []
   },
   "outputs": [
    {
     "data": {
      "image/png": "[encoded data removed]",
      "text/plain": [
       "<Figure size 700x700 with 1 Axes>"
      ]
     },
     "metadata": {},
     "output_type": "display_data"
    }
   ],
   "source": [
    "plt.figure(figsize=(7,7))\n",
    "plt.scatter(y_test, pred, c='crimson')\n",
    "plt.yscale('log')\n",
    "plt.xscale('log')\n",
    "\n",
    "p1 = max(max(pred), max(y_test))\n",
    "p2 = min(min(pred), min(y_test))\n",
    "plt.plot([p2, p1], [p2, p1], 'b-')  # Corrected order of points\n",
    "plt.xlabel('True Values', fontsize=15)\n",
    "plt.ylabel('Predictions', fontsize=15)\n",
    "plt.axis('equal')\n",
    "plt.title(\"Comparison between y true and y pred\")\n",
    "plt.show()"
   ]
  },
  {
   "cell_type": "markdown",
   "id": "6963e657",
   "metadata": {
    "papermill": {
     "duration": 0.027522,
     "end_time": "2023-12-29T07:17:21.959685",
     "exception": false,
     "start_time": "2023-12-29T07:17:21.932163",
     "status": "completed"
    },
    "tags": []
   },
   "source": [
    "#### As we can see, our model seems to perform well, regarding that the blue line represents the perfect regression line, although some predictions fall quite far from the regression line."
   ]
  },
  {
   "cell_type": "code",
   "execution_count": 47,
   "id": "3f662df8",
   "metadata": {
    "execution": {
     "iopub.execute_input": "2023-12-29T07:17:22.016396Z",
     "iopub.status.busy": "2023-12-29T07:17:22.016054Z",
     "iopub.status.idle": "2023-12-29T07:17:22.021583Z",
     "shell.execute_reply": "2023-12-29T07:17:22.020304Z"
    },
    "papermill": {
     "duration": 0.036252,
     "end_time": "2023-12-29T07:17:22.023447",
     "exception": false,
     "start_time": "2023-12-29T07:17:21.987195",
     "status": "completed"
    },
    "tags": []
   },
   "outputs": [],
   "source": [
    "#Hyper parameter optimization\n",
    "rand_params = {\n",
    "    'iterations' : [90,130,160,190,220],\n",
    "    'learning_rate' : [0.01,0.03,0.05,0.07,0.11],\n",
    "    'depth' : [1,3,5,9,11],\n",
    "}\n",
    "kfold = KFold(n_splits = 3, shuffle = True, random_state = 42)"
   ]
  },
  {
   "cell_type": "markdown",
   "id": "8b90336f",
   "metadata": {
    "papermill": {
     "duration": 0.02745,
     "end_time": "2023-12-29T07:17:22.079796",
     "exception": false,
     "start_time": "2023-12-29T07:17:22.052346",
     "status": "completed"
    },
    "tags": []
   },
   "source": [
    "## Hyperparameter Tuning with GridSearch"
   ]
  },
  {
   "cell_type": "code",
   "execution_count": 48,
   "id": "9ec147a6",
   "metadata": {
    "execution": {
     "iopub.execute_input": "2023-12-29T07:17:22.137332Z",
     "iopub.status.busy": "2023-12-29T07:17:22.136956Z",
     "iopub.status.idle": "2023-12-29T07:17:22.141743Z",
     "shell.execute_reply": "2023-12-29T07:17:22.140667Z"
    },
    "papermill": {
     "duration": 0.035922,
     "end_time": "2023-12-29T07:17:22.143692",
     "exception": false,
     "start_time": "2023-12-29T07:17:22.107770",
     "status": "completed"
    },
    "tags": []
   },
   "outputs": [],
   "source": [
    "from sklearn.model_selection import GridSearchCV\n",
    "grid_search = GridSearchCV(model,  rand_params,  scoring = 'neg_root_mean_squared_error',  cv = kfold, error_score='raise')"
   ]
  },
  {
   "cell_type": "code",
   "execution_count": 49,
   "id": "63cc4b4c",
   "metadata": {
    "execution": {
     "iopub.execute_input": "2023-12-29T07:17:22.200347Z",
     "iopub.status.busy": "2023-12-29T07:17:22.199981Z",
     "iopub.status.idle": "2023-12-29T07:35:28.400025Z",
     "shell.execute_reply": "2023-12-29T07:35:28.398532Z"
    },
    "papermill": {
     "duration": 1086.259263,
     "end_time": "2023-12-29T07:35:28.430881",
     "exception": false,
     "start_time": "2023-12-29T07:17:22.171618",
     "status": "completed"
    },
    "tags": []
   },
   "outputs": [
    {
     "data": {
      "text/html": [
       "<style>#sk-container-id-2 {color: black;background-color: white;}#sk-container-id-2 pre{padding: 0;}#sk-container-id-2 div.sk-toggleable {background-color: white;}#sk-container-id-2 label.sk-toggleable__label {cursor: pointer;display: block;width: 100%;margin-bottom: 0;padding: 0.3em;box-sizing: border-box;text-align: center;}#sk-container-id-2 label.sk-toggleable__label-arrow:before {content: \"▸\";float: left;margin-right: 0.25em;color: #696969;}#sk-container-id-2 label.sk-toggleable__label-arrow:hover:before {color: black;}#sk-container-id-2 div.sk-estimator:hover label.sk-toggleable__label-arrow:before {color: black;}#sk-container-id-2 div.sk-toggleable__content {max-height: 0;max-width: 0;overflow: hidden;text-align: left;background-color: #f0f8ff;}#sk-container-id-2 div.sk-toggleable__content pre {margin: 0.2em;color: black;border-radius: 0.25em;background-color: #f0f8ff;}#sk-container-id-2 input.sk-toggleable__control:checked~div.sk-toggleable__content {max-height: 200px;max-width: 100%;overflow: auto;}#sk-container-id-2 input.sk-toggleable__control:checked~label.sk-toggleable__label-arrow:before {content: \"▾\";}#sk-container-id-2 div.sk-estimator input.sk-toggleable__control:checked~label.sk-toggleable__label {background-color: #d4ebff;}#sk-container-id-2 div.sk-label input.sk-toggleable__control:checked~label.sk-toggleable__label {background-color: #d4ebff;}#sk-container-id-2 input.sk-hidden--visually {border: 0;clip: rect(1px 1px 1px 1px);clip: rect(1px, 1px, 1px, 1px);height: 1px;margin: -1px;overflow: hidden;padding: 0;position: absolute;width: 1px;}#sk-container-id-2 div.sk-estimator {font-family: monospace;background-color: #f0f8ff;border: 1px dotted black;border-radius: 0.25em;box-sizing: border-box;margin-bottom: 0.5em;}#sk-container-id-2 div.sk-estimator:hover {background-color: #d4ebff;}#sk-container-id-2 div.sk-parallel-item::after {content: \"\";width: 100%;border-bottom: 1px solid gray;flex-grow: 1;}#sk-container-id-2 div.sk-label:hover label.sk-toggleable__label {background-color: #d4ebff;}#sk-container-id-2 div.sk-serial::before {content: \"\";position: absolute;border-left: 1px solid gray;box-sizing: border-box;top: 0;bottom: 0;left: 50%;z-index: 0;}#sk-container-id-2 div.sk-serial {display: flex;flex-direction: column;align-items: center;background-color: white;padding-right: 0.2em;padding-left: 0.2em;position: relative;}#sk-container-id-2 div.sk-item {position: relative;z-index: 1;}#sk-container-id-2 div.sk-parallel {display: flex;align-items: stretch;justify-content: center;background-color: white;position: relative;}#sk-container-id-2 div.sk-item::before, #sk-container-id-2 div.sk-parallel-item::before {content: \"\";position: absolute;border-left: 1px solid gray;box-sizing: border-box;top: 0;bottom: 0;left: 50%;z-index: -1;}#sk-container-id-2 div.sk-parallel-item {display: flex;flex-direction: column;z-index: 1;position: relative;background-color: white;}#sk-container-id-2 div.sk-parallel-item:first-child::after {align-self: flex-end;width: 50%;}#sk-container-id-2 div.sk-parallel-item:last-child::after {align-self: flex-start;width: 50%;}#sk-container-id-2 div.sk-parallel-item:only-child::after {width: 0;}#sk-container-id-2 div.sk-dashed-wrapped {border: 1px dashed gray;margin: 0 0.4em 0.5em 0.4em;box-sizing: border-box;padding-bottom: 0.4em;background-color: white;}#sk-container-id-2 div.sk-label label {font-family: monospace;font-weight: bold;display: inline-block;line-height: 1.2em;}#sk-container-id-2 div.sk-label-container {text-align: center;}#sk-container-id-2 div.sk-container {/* jupyter's `normalize.less` sets `[hidden] { display: none; }` but bootstrap.min.css set `[hidden] { display: none !important; }` so we also need the `!important` here to be able to override the default hidden behavior on the sphinx rendered scikit-learn.org. See: https://github.com/scikit-learn/scikit-learn/issues/21755 */display: inline-block !important;position: relative;}#sk-container-id-2 div.sk-text-repr-fallback {display: none;}</style><div id=\"sk-container-id-2\" class=\"sk-top-container\"><div class=\"sk-text-repr-fallback\"><pre>GridSearchCV(cv=KFold(n_splits=3, random_state=42, shuffle=True),\n",
       "             error_score=&#x27;raise&#x27;,\n",
       "             estimator=&lt;catboost.core.CatBoostRegressor object at 0x77ff26817790&gt;,\n",
       "             param_grid={&#x27;depth&#x27;: [1, 3, 5, 9, 11],\n",
       "                         &#x27;iterations&#x27;: [90, 130, 160, 190, 220],\n",
       "                         &#x27;learning_rate&#x27;: [0.01, 0.03, 0.05, 0.07, 0.11]},\n",
       "             scoring=&#x27;neg_root_mean_squared_error&#x27;)</pre><b>In a Jupyter environment, please rerun this cell to show the HTML representation or trust the notebook. <br />On GitHub, the HTML representation is unable to render, please try loading this page with nbviewer.org.</b></div><div class=\"sk-container\" hidden><div class=\"sk-item sk-dashed-wrapped\"><div class=\"sk-label-container\"><div class=\"sk-label sk-toggleable\"><input class=\"sk-toggleable__control sk-hidden--visually\" id=\"sk-estimator-id-2\" type=\"checkbox\" ><label for=\"sk-estimator-id-2\" class=\"sk-toggleable__label sk-toggleable__label-arrow\">GridSearchCV</label><div class=\"sk-toggleable__content\"><pre>GridSearchCV(cv=KFold(n_splits=3, random_state=42, shuffle=True),\n",
       "             error_score=&#x27;raise&#x27;,\n",
       "             estimator=&lt;catboost.core.CatBoostRegressor object at 0x77ff26817790&gt;,\n",
       "             param_grid={&#x27;depth&#x27;: [1, 3, 5, 9, 11],\n",
       "                         &#x27;iterations&#x27;: [90, 130, 160, 190, 220],\n",
       "                         &#x27;learning_rate&#x27;: [0.01, 0.03, 0.05, 0.07, 0.11]},\n",
       "             scoring=&#x27;neg_root_mean_squared_error&#x27;)</pre></div></div></div><div class=\"sk-parallel\"><div class=\"sk-parallel-item\"><div class=\"sk-item\"><div class=\"sk-label-container\"><div class=\"sk-label sk-toggleable\"><input class=\"sk-toggleable__control sk-hidden--visually\" id=\"sk-estimator-id-3\" type=\"checkbox\" ><label for=\"sk-estimator-id-3\" class=\"sk-toggleable__label sk-toggleable__label-arrow\">estimator: CatBoostRegressor</label><div class=\"sk-toggleable__content\"><pre>&lt;catboost.core.CatBoostRegressor object at 0x77ff26817790&gt;</pre></div></div></div><div class=\"sk-serial\"><div class=\"sk-item\"><div class=\"sk-estimator sk-toggleable\"><input class=\"sk-toggleable__control sk-hidden--visually\" id=\"sk-estimator-id-4\" type=\"checkbox\" ><label for=\"sk-estimator-id-4\" class=\"sk-toggleable__label sk-toggleable__label-arrow\">CatBoostRegressor</label><div class=\"sk-toggleable__content\"><pre>&lt;catboost.core.CatBoostRegressor object at 0x77ff26817790&gt;</pre></div></div></div></div></div></div></div></div></div></div>"
      ],
      "text/plain": [
       "GridSearchCV(cv=KFold(n_splits=3, random_state=42, shuffle=True),\n",
       "             error_score='raise',\n",
       "             estimator=<catboost.core.CatBoostRegressor object at 0x77ff26817790>,\n",
       "             param_grid={'depth': [1, 3, 5, 9, 11],\n",
       "                         'iterations': [90, 130, 160, 190, 220],\n",
       "                         'learning_rate': [0.01, 0.03, 0.05, 0.07, 0.11]},\n",
       "             scoring='neg_root_mean_squared_error')"
      ]
     },
     "execution_count": 49,
     "metadata": {},
     "output_type": "execute_result"
    }
   ],
   "source": [
    "grid_search.fit(X_train,y_train)"
   ]
  },
  {
   "cell_type": "code",
   "execution_count": 50,
   "id": "57379905",
   "metadata": {
    "execution": {
     "iopub.execute_input": "2023-12-29T07:35:28.490356Z",
     "iopub.status.busy": "2023-12-29T07:35:28.489937Z",
     "iopub.status.idle": "2023-12-29T07:35:28.496283Z",
     "shell.execute_reply": "2023-12-29T07:35:28.495172Z"
    },
    "papermill": {
     "duration": 0.038864,
     "end_time": "2023-12-29T07:35:28.498099",
     "exception": false,
     "start_time": "2023-12-29T07:35:28.459235",
     "status": "completed"
    },
    "tags": []
   },
   "outputs": [
    {
     "data": {
      "text/plain": [
       "{'depth': 5, 'iterations': 220, 'learning_rate': 0.07}"
      ]
     },
     "execution_count": 50,
     "metadata": {},
     "output_type": "execute_result"
    }
   ],
   "source": [
    "grid_search.best_params_"
   ]
  },
  {
   "cell_type": "code",
   "execution_count": 51,
   "id": "2088c41a",
   "metadata": {
    "execution": {
     "iopub.execute_input": "2023-12-29T07:35:28.557099Z",
     "iopub.status.busy": "2023-12-29T07:35:28.556716Z",
     "iopub.status.idle": "2023-12-29T07:35:29.173571Z",
     "shell.execute_reply": "2023-12-29T07:35:29.172616Z"
    },
    "papermill": {
     "duration": 0.648513,
     "end_time": "2023-12-29T07:35:29.175749",
     "exception": false,
     "start_time": "2023-12-29T07:35:28.527236",
     "status": "completed"
    },
    "tags": []
   },
   "outputs": [
    {
     "name": "stdout",
     "output_type": "stream",
     "text": [
      "result :  180139.99510235494\n"
     ]
    }
   ],
   "source": [
    "tuned_model_grid = CatBoostRegressor(**grid_search.best_params_, silent = True)\n",
    "tuned_model_grid.fit(X_train,y_train)\n",
    "another_pred = np.exp(tuned_model_grid.predict(X_test))\n",
    "res = mean_squared_error(y_test,another_pred, squared = False)\n",
    "print('result : ', res)"
   ]
  },
  {
   "cell_type": "markdown",
   "id": "2d6f3cd1",
   "metadata": {
    "papermill": {
     "duration": 0.029692,
     "end_time": "2023-12-29T07:35:29.234724",
     "exception": false,
     "start_time": "2023-12-29T07:35:29.205032",
     "status": "completed"
    },
    "tags": []
   },
   "source": [
    "#### Compared to our previous non-tuned model's performance, there is a slight improvment."
   ]
  },
  {
   "cell_type": "markdown",
   "id": "128a6d20",
   "metadata": {
    "papermill": {
     "duration": 0.028809,
     "end_time": "2023-12-29T07:35:29.292826",
     "exception": false,
     "start_time": "2023-12-29T07:35:29.264017",
     "status": "completed"
    },
    "tags": []
   },
   "source": [
    "#### Let's try to do feature selection using the model's feature_importance_"
   ]
  },
  {
   "cell_type": "code",
   "execution_count": 52,
   "id": "dd9c1c2a",
   "metadata": {
    "execution": {
     "iopub.execute_input": "2023-12-29T07:35:29.352913Z",
     "iopub.status.busy": "2023-12-29T07:35:29.352316Z",
     "iopub.status.idle": "2023-12-29T07:35:29.375983Z",
     "shell.execute_reply": "2023-12-29T07:35:29.374776Z"
    },
    "papermill": {
     "duration": 0.056616,
     "end_time": "2023-12-29T07:35:29.378547",
     "exception": false,
     "start_time": "2023-12-29T07:35:29.321931",
     "status": "completed"
    },
    "tags": []
   },
   "outputs": [],
   "source": [
    "from sklearn.feature_selection import SelectFromModel\n",
    "sel = SelectFromModel(tuned_model_grid,importance_getter='feature_importances_')"
   ]
  },
  {
   "cell_type": "code",
   "execution_count": 53,
   "id": "45e9c34c",
   "metadata": {
    "execution": {
     "iopub.execute_input": "2023-12-29T07:35:29.438852Z",
     "iopub.status.busy": "2023-12-29T07:35:29.438503Z",
     "iopub.status.idle": "2023-12-29T07:35:30.033313Z",
     "shell.execute_reply": "2023-12-29T07:35:30.032321Z"
    },
    "papermill": {
     "duration": 0.626894,
     "end_time": "2023-12-29T07:35:30.035087",
     "exception": false,
     "start_time": "2023-12-29T07:35:29.408193",
     "status": "completed"
    },
    "tags": []
   },
   "outputs": [
    {
     "data": {
      "text/plain": [
       "15"
      ]
     },
     "execution_count": 53,
     "metadata": {},
     "output_type": "execute_result"
    }
   ],
   "source": [
    "sel.fit(X_train,y_train)\n",
    "\n",
    "selected_feat = X_train.columns[(sel.get_support())]\n",
    "len(selected_feat)"
   ]
  },
  {
   "cell_type": "code",
   "execution_count": 54,
   "id": "fcb86798",
   "metadata": {
    "execution": {
     "iopub.execute_input": "2023-12-29T07:35:30.095177Z",
     "iopub.status.busy": "2023-12-29T07:35:30.094555Z",
     "iopub.status.idle": "2023-12-29T07:35:30.354499Z",
     "shell.execute_reply": "2023-12-29T07:35:30.353757Z"
    },
    "papermill": {
     "duration": 0.291794,
     "end_time": "2023-12-29T07:35:30.356181",
     "exception": false,
     "start_time": "2023-12-29T07:35:30.064387",
     "status": "completed"
    },
    "tags": []
   },
   "outputs": [
    {
     "name": "stdout",
     "output_type": "stream",
     "text": [
      "result :  186466.82143977538\n"
     ]
    }
   ],
   "source": [
    "#let's create a new model using only the selected features\n",
    "tuned_model_selfeat = CatBoostRegressor(**grid_search.best_params_, silent = True)\n",
    "tuned_model_selfeat.fit(X_train[selected_feat],y_train)\n",
    "another_pred = np.exp(tuned_model_selfeat.predict(X_test[selected_feat]))\n",
    "res = mean_squared_error(y_test,another_pred, squared = False)\n",
    "print('result : ', res)"
   ]
  },
  {
   "cell_type": "markdown",
   "id": "043ce865",
   "metadata": {
    "papermill": {
     "duration": 0.028031,
     "end_time": "2023-12-29T07:35:30.412944",
     "exception": false,
     "start_time": "2023-12-29T07:35:30.384913",
     "status": "completed"
    },
    "tags": []
   },
   "source": [
    "#### As we observe, our model's performance decreased .5 out of it's original tuned performance. Therefore, we will not use the selected features."
   ]
  },
  {
   "cell_type": "code",
   "execution_count": 55,
   "id": "90d29772",
   "metadata": {
    "execution": {
     "iopub.execute_input": "2023-12-29T07:35:30.472376Z",
     "iopub.status.busy": "2023-12-29T07:35:30.471748Z",
     "iopub.status.idle": "2023-12-29T07:35:31.074932Z",
     "shell.execute_reply": "2023-12-29T07:35:31.074178Z"
    },
    "papermill": {
     "duration": 0.635179,
     "end_time": "2023-12-29T07:35:31.076936",
     "exception": false,
     "start_time": "2023-12-29T07:35:30.441757",
     "status": "completed"
    },
    "tags": []
   },
   "outputs": [
    {
     "name": "stdout",
     "output_type": "stream",
     "text": [
      "result :  0.1408038791560392\n"
     ]
    }
   ],
   "source": [
    "model = CatBoostRegressor(**grid_search.best_params_, silent = True)\n",
    "model.fit(X_train,y_train)\n",
    "pred = model.predict(X_test)\n",
    "res = mean_squared_error(y_test,pred, squared = False)\n",
    "print('result : ', res)"
   ]
  },
  {
   "cell_type": "markdown",
   "id": "c526dd1a",
   "metadata": {
    "papermill": {
     "duration": 0.030014,
     "end_time": "2023-12-29T07:35:31.136346",
     "exception": false,
     "start_time": "2023-12-29T07:35:31.106332",
     "status": "completed"
    },
    "tags": []
   },
   "source": [
    "## Final Model"
   ]
  },
  {
   "cell_type": "code",
   "execution_count": 56,
   "id": "9c2933db",
   "metadata": {
    "execution": {
     "iopub.execute_input": "2023-12-29T07:35:31.197765Z",
     "iopub.status.busy": "2023-12-29T07:35:31.197110Z",
     "iopub.status.idle": "2023-12-29T07:35:31.668260Z",
     "shell.execute_reply": "2023-12-29T07:35:31.666559Z"
    },
    "papermill": {
     "duration": 0.504783,
     "end_time": "2023-12-29T07:35:31.670851",
     "exception": false,
     "start_time": "2023-12-29T07:35:31.166068",
     "status": "completed"
    },
    "tags": []
   },
   "outputs": [
    {
     "data": {
      "image/png": "[encoded data removed]",
      "text/plain": [
       "<Figure size 700x700 with 1 Axes>"
      ]
     },
     "metadata": {},
     "output_type": "display_data"
    }
   ],
   "source": [
    "plt.figure(figsize=(7,7))\n",
    "plt.scatter(y_test, pred, c='crimson')\n",
    "plt.yscale('log')\n",
    "plt.xscale('log')\n",
    "\n",
    "p1 = max(max(pred), max(y_test))\n",
    "p2 = min(min(pred), min(y_test))\n",
    "plt.plot([p2, p1], [p2, p1], 'b-')  # Corrected order of points\n",
    "plt.xlabel('True Values', fontsize=15)\n",
    "plt.ylabel('Predictions', fontsize=15)\n",
    "plt.axis('equal')\n",
    "plt.title(\"Comparison between y true and y pred\")\n",
    "plt.show()"
   ]
  },
  {
   "cell_type": "markdown",
   "id": "e0bf9a7f",
   "metadata": {
    "papermill": {
     "duration": 0.029721,
     "end_time": "2023-12-29T07:35:31.730180",
     "exception": false,
     "start_time": "2023-12-29T07:35:31.700459",
     "status": "completed"
    },
    "tags": []
   },
   "source": [
    "## Conclusion"
   ]
  },
  {
   "cell_type": "markdown",
   "id": "1a28b5a3",
   "metadata": {
    "papermill": {
     "duration": 0.029135,
     "end_time": "2023-12-29T07:35:31.788732",
     "exception": false,
     "start_time": "2023-12-29T07:35:31.759597",
     "status": "completed"
    },
    "tags": []
   },
   "source": [
    "#### We've managed to create a decent model to predict houses' sales price with RMSE score of 186072.66. Based on the visualization, our model has lots of underprediction(predict below the real value) compared to overprediction."
   ]
  },
  {
   "cell_type": "markdown",
   "id": "17c942c0",
   "metadata": {
    "papermill": {
     "duration": 0.029236,
     "end_time": "2023-12-29T07:35:31.847115",
     "exception": false,
     "start_time": "2023-12-29T07:35:31.817879",
     "status": "completed"
    },
    "tags": []
   },
   "source": [
    "## Submission to kaggle"
   ]
  },
  {
   "cell_type": "markdown",
   "id": "4d6b1aa1",
   "metadata": {
    "papermill": {
     "duration": 0.028819,
     "end_time": "2023-12-29T07:35:31.904793",
     "exception": false,
     "start_time": "2023-12-29T07:35:31.875974",
     "status": "completed"
    },
    "tags": []
   },
   "source": [
    "#### We only need to apply the same steps (feature engineering, preprocessing, etc) that we applied to the train set, to the test set which will be used to make predictions for submission to kaggle."
   ]
  },
  {
   "cell_type": "code",
   "execution_count": 57,
   "id": "caa16be7",
   "metadata": {
    "execution": {
     "iopub.execute_input": "2023-12-29T07:35:31.965365Z",
     "iopub.status.busy": "2023-12-29T07:35:31.965005Z",
     "iopub.status.idle": "2023-12-29T07:35:31.997829Z",
     "shell.execute_reply": "2023-12-29T07:35:31.996670Z"
    },
    "papermill": {
     "duration": 0.066076,
     "end_time": "2023-12-29T07:35:32.000151",
     "exception": false,
     "start_time": "2023-12-29T07:35:31.934075",
     "status": "completed"
    },
    "tags": []
   },
   "outputs": [],
   "source": [
    "test_set = pd.read_csv(\"/kaggle/input/house-prices-advanced-regression-techniques/test.csv\")\n",
    "#save the test's 'Id' for submission later.\n",
    "test_id = test_set.Id"
   ]
  },
  {
   "cell_type": "code",
   "execution_count": 58,
   "id": "74af054e",
   "metadata": {
    "execution": {
     "iopub.execute_input": "2023-12-29T07:35:32.062978Z",
     "iopub.status.busy": "2023-12-29T07:35:32.062628Z",
     "iopub.status.idle": "2023-12-29T07:35:32.070961Z",
     "shell.execute_reply": "2023-12-29T07:35:32.069477Z"
    },
    "papermill": {
     "duration": 0.042329,
     "end_time": "2023-12-29T07:35:32.073406",
     "exception": false,
     "start_time": "2023-12-29T07:35:32.031077",
     "status": "completed"
    },
    "tags": []
   },
   "outputs": [],
   "source": [
    "test_set.drop('Id',axis = 1, inplace = True)"
   ]
  },
  {
   "cell_type": "code",
   "execution_count": 59,
   "id": "4f104ffc",
   "metadata": {
    "execution": {
     "iopub.execute_input": "2023-12-29T07:35:32.137455Z",
     "iopub.status.busy": "2023-12-29T07:35:32.137085Z",
     "iopub.status.idle": "2023-12-29T07:35:32.147957Z",
     "shell.execute_reply": "2023-12-29T07:35:32.145909Z"
    },
    "papermill": {
     "duration": 0.046094,
     "end_time": "2023-12-29T07:35:32.150641",
     "exception": false,
     "start_time": "2023-12-29T07:35:32.104547",
     "status": "completed"
    },
    "tags": []
   },
   "outputs": [
    {
     "name": "stdout",
     "output_type": "stream",
     "text": [
      "Features with missing values:\n",
      "MSZoning           4\n",
      "LotFrontage      227\n",
      "Alley           1352\n",
      "Utilities          2\n",
      "Exterior1st        1\n",
      "Exterior2nd        1\n",
      "MasVnrType       894\n",
      "MasVnrArea        15\n",
      "BsmtQual          44\n",
      "BsmtCond          45\n",
      "BsmtExposure      44\n",
      "BsmtFinType1      42\n",
      "BsmtFinSF1         1\n",
      "BsmtFinType2      42\n",
      "BsmtFinSF2         1\n",
      "BsmtUnfSF          1\n",
      "TotalBsmtSF        1\n",
      "BsmtFullBath       2\n",
      "BsmtHalfBath       2\n",
      "KitchenQual        1\n",
      "Functional         2\n",
      "FireplaceQu      730\n",
      "GarageType        76\n",
      "GarageYrBlt       78\n",
      "GarageFinish      78\n",
      "GarageCars         1\n",
      "GarageArea         1\n",
      "GarageQual        78\n",
      "GarageCond        78\n",
      "PoolQC          1456\n",
      "Fence           1169\n",
      "MiscFeature     1408\n",
      "SaleType           1\n",
      "dtype: int64\n"
     ]
    }
   ],
   "source": [
    "#Check missing values\n",
    "mis_val = test_set.isnull().sum()\n",
    "mis_val = mis_val[mis_val > 0]\n",
    "print(\"Features with missing values:\")\n",
    "print(mis_val)"
   ]
  },
  {
   "cell_type": "code",
   "execution_count": 60,
   "id": "b8d84caa",
   "metadata": {
    "execution": {
     "iopub.execute_input": "2023-12-29T07:35:32.212135Z",
     "iopub.status.busy": "2023-12-29T07:35:32.211779Z",
     "iopub.status.idle": "2023-12-29T07:35:32.224495Z",
     "shell.execute_reply": "2023-12-29T07:35:32.223426Z"
    },
    "papermill": {
     "duration": 0.046775,
     "end_time": "2023-12-29T07:35:32.227308",
     "exception": false,
     "start_time": "2023-12-29T07:35:32.180533",
     "status": "completed"
    },
    "tags": []
   },
   "outputs": [],
   "source": [
    "#impute missing values with 'None'\n",
    "for column in nones:\n",
    "    test_set[column] = test_set[column].fillna(\"None\")"
   ]
  },
  {
   "cell_type": "code",
   "execution_count": 61,
   "id": "d455549e",
   "metadata": {
    "execution": {
     "iopub.execute_input": "2023-12-29T07:35:32.289326Z",
     "iopub.status.busy": "2023-12-29T07:35:32.288967Z",
     "iopub.status.idle": "2023-12-29T07:35:32.302173Z",
     "shell.execute_reply": "2023-12-29T07:35:32.300917Z"
    },
    "papermill": {
     "duration": 0.046828,
     "end_time": "2023-12-29T07:35:32.304265",
     "exception": false,
     "start_time": "2023-12-29T07:35:32.257437",
     "status": "completed"
    },
    "tags": []
   },
   "outputs": [
    {
     "name": "stdout",
     "output_type": "stream",
     "text": [
      "Features with missing values:\n",
      "MSZoning          4\n",
      "LotFrontage     227\n",
      "Utilities         2\n",
      "Exterior1st       1\n",
      "Exterior2nd       1\n",
      "MasVnrType      894\n",
      "MasVnrArea       15\n",
      "BsmtFinSF1        1\n",
      "BsmtFinSF2        1\n",
      "BsmtUnfSF         1\n",
      "TotalBsmtSF       1\n",
      "BsmtFullBath      2\n",
      "BsmtHalfBath      2\n",
      "KitchenQual       1\n",
      "Functional        2\n",
      "GarageYrBlt      78\n",
      "GarageCars        1\n",
      "GarageArea        1\n",
      "SaleType          1\n",
      "dtype: int64\n"
     ]
    }
   ],
   "source": [
    "#Check missing values again\n",
    "mis_val = test_set.isnull().sum()\n",
    "mis_val = mis_val[mis_val > 0]\n",
    "print(\"Features with missing values:\")\n",
    "print(mis_val)"
   ]
  },
  {
   "cell_type": "markdown",
   "id": "896315fa",
   "metadata": {
    "papermill": {
     "duration": 0.029168,
     "end_time": "2023-12-29T07:35:32.363400",
     "exception": false,
     "start_time": "2023-12-29T07:35:32.334232",
     "status": "completed"
    },
    "tags": []
   },
   "source": [
    "#### Fill missing values accordingly."
   ]
  },
  {
   "cell_type": "code",
   "execution_count": 62,
   "id": "b06d8d19",
   "metadata": {
    "execution": {
     "iopub.execute_input": "2023-12-29T07:35:32.424434Z",
     "iopub.status.busy": "2023-12-29T07:35:32.423745Z",
     "iopub.status.idle": "2023-12-29T07:35:32.490696Z",
     "shell.execute_reply": "2023-12-29T07:35:32.489612Z"
    },
    "papermill": {
     "duration": 0.100383,
     "end_time": "2023-12-29T07:35:32.493079",
     "exception": false,
     "start_time": "2023-12-29T07:35:32.392696",
     "status": "completed"
    },
    "tags": []
   },
   "outputs": [],
   "source": [
    "#Impute missing continuous features with knn\n",
    "knn_cols = ['LotFrontage','MasVnrArea','GarageYrBlt','BsmtFinSF1','BsmtFinSF2','BsmtUnfSF','TotalBsmtSF','GarageYrBlt','GarageArea']\n",
    "test_set[knn_cols] = imputer.fit_transform(test_set[knn_cols])\n",
    "\n",
    "#Impute missing categorical features with mode value\n",
    "test_set.MSZoning = test_set.MSZoning.fillna(test_set.MSZoning.mode().iloc[0])\n",
    "test_set.Utilities = test_set.Utilities.fillna(test_set.Utilities.mode().iloc[0])\n",
    "test_set.Exterior1st = test_set.Exterior1st.fillna(test_set.Exterior1st.mode().iloc[0])\n",
    "test_set.Exterior2nd = test_set.Exterior2nd.fillna(test_set.Exterior2nd.mode().iloc[0])\n",
    "test_set.BsmtFullBath = test_set.BsmtFullBath.fillna(test_set.BsmtFullBath.mode().iloc[0])\n",
    "test_set.BsmtHalfBath = test_set.BsmtHalfBath.fillna(test_set.BsmtHalfBath.mode().iloc[0])\n",
    "test_set.KitchenQual = test_set.KitchenQual.fillna(test_set.KitchenQual.mode().iloc[0])\n",
    "test_set.Functional = test_set.Functional.fillna(test_set.Functional.mode().iloc[0])\n",
    "test_set.GarageCars = test_set.GarageCars.fillna(test_set.GarageCars.mode().iloc[0])\n",
    "test_set.SaleType = test_set.SaleType.fillna(test_set.SaleType.mode().iloc[0])\n",
    "\n",
    "#Drop 'MasVnrType', because it's total of missing value is more than 50%, imputing it can cause a highly bias value.\n",
    "test_set.drop('MasVnrType', axis = 1, inplace = True)"
   ]
  },
  {
   "cell_type": "code",
   "execution_count": 63,
   "id": "a7830747",
   "metadata": {
    "execution": {
     "iopub.execute_input": "2023-12-29T07:35:32.575107Z",
     "iopub.status.busy": "2023-12-29T07:35:32.574461Z",
     "iopub.status.idle": "2023-12-29T07:35:32.586569Z",
     "shell.execute_reply": "2023-12-29T07:35:32.585083Z"
    },
    "papermill": {
     "duration": 0.055394,
     "end_time": "2023-12-29T07:35:32.588398",
     "exception": false,
     "start_time": "2023-12-29T07:35:32.533004",
     "status": "completed"
    },
    "tags": []
   },
   "outputs": [
    {
     "name": "stdout",
     "output_type": "stream",
     "text": [
      "Features with missing values:\n",
      "Series([], dtype: int64)\n"
     ]
    }
   ],
   "source": [
    "#Check missing values again\n",
    "mis_val = test_set.isnull().sum()\n",
    "mis_val = mis_val[mis_val > 0]\n",
    "print(\"Features with missing values:\")\n",
    "print(mis_val)"
   ]
  },
  {
   "cell_type": "markdown",
   "id": "52c1374c",
   "metadata": {
    "papermill": {
     "duration": 0.030131,
     "end_time": "2023-12-29T07:35:32.648722",
     "exception": false,
     "start_time": "2023-12-29T07:35:32.618591",
     "status": "completed"
    },
    "tags": []
   },
   "source": [
    "#### Feat Selection +  Feat Eng"
   ]
  },
  {
   "cell_type": "code",
   "execution_count": 64,
   "id": "88354dd8",
   "metadata": {
    "execution": {
     "iopub.execute_input": "2023-12-29T07:35:32.710933Z",
     "iopub.status.busy": "2023-12-29T07:35:32.710597Z",
     "iopub.status.idle": "2023-12-29T07:35:32.720351Z",
     "shell.execute_reply": "2023-12-29T07:35:32.718684Z"
    },
    "papermill": {
     "duration": 0.043936,
     "end_time": "2023-12-29T07:35:32.722961",
     "exception": false,
     "start_time": "2023-12-29T07:35:32.679025",
     "status": "completed"
    },
    "tags": []
   },
   "outputs": [],
   "source": [
    "#Drop constant features\n",
    "test_set.drop(['LotFrontage',\n",
    " 'Utilities',\n",
    " 'Condition2',\n",
    " 'RoofMatl',\n",
    " 'MasVnrArea',\n",
    " 'LowQualFinSF',\n",
    " 'GarageYrBlt',\n",
    " '3SsnPorch',\n",
    " 'PoolArea',\n",
    " 'PoolQC',\n",
    " 'Street'], axis = 1, inplace = True)"
   ]
  },
  {
   "cell_type": "code",
   "execution_count": 65,
   "id": "c2977932",
   "metadata": {
    "execution": {
     "iopub.execute_input": "2023-12-29T07:35:32.787510Z",
     "iopub.status.busy": "2023-12-29T07:35:32.787136Z",
     "iopub.status.idle": "2023-12-29T07:35:32.868473Z",
     "shell.execute_reply": "2023-12-29T07:35:32.867705Z"
    },
    "papermill": {
     "duration": 0.115805,
     "end_time": "2023-12-29T07:35:32.870641",
     "exception": false,
     "start_time": "2023-12-29T07:35:32.754836",
     "status": "completed"
    },
    "tags": []
   },
   "outputs": [],
   "source": [
    "#Encode nominal and ordinal categorical features\n",
    "test_set = ord_enc.transform(test_set)\n",
    "test_set = enc.transform(test_set)"
   ]
  },
  {
   "cell_type": "code",
   "execution_count": 66,
   "id": "28332315",
   "metadata": {
    "execution": {
     "iopub.execute_input": "2023-12-29T07:35:32.934496Z",
     "iopub.status.busy": "2023-12-29T07:35:32.933783Z",
     "iopub.status.idle": "2023-12-29T07:35:32.957277Z",
     "shell.execute_reply": "2023-12-29T07:35:32.956453Z"
    },
    "papermill": {
     "duration": 0.057646,
     "end_time": "2023-12-29T07:35:32.959378",
     "exception": false,
     "start_time": "2023-12-29T07:35:32.901732",
     "status": "completed"
    },
    "tags": []
   },
   "outputs": [],
   "source": [
    "#predict and make the submission file\n",
    "final_pred = np.exp(tuned_model_grid.predict(test_set))\n",
    "sub = pd.DataFrame()\n",
    "sub['Id'] = test_id\n",
    "sub['SalePrice'] = final_pred\n",
    "sub.to_csv('Submission.csv', index = False)"
   ]
  }
 ],
 "metadata": {
  "kaggle": {
   "accelerator": "none",
   "dataSources": [
    {
     "databundleVersionId": 868283,
     "sourceId": 5407,
     "sourceType": "competition"
    }
   ],
   "dockerImageVersionId": 30626,
   "isGpuEnabled": false,
   "isInternetEnabled": true,
   "language": "python",
   "sourceType": "notebook"
  },
  "kernelspec": {
   "display_name": "Python 3",
   "language": "python",
   "name": "python3"
  },
  "language_info": {
   "codemirror_mode": {
    "name": "ipython",
    "version": 3
   },
   "file_extension": ".py",
   "mimetype": "text/x-python",
   "name": "python",
   "nbconvert_exporter": "python",
   "pygments_lexer": "ipython3",
   "version": "3.10.12"
  },
  "papermill": {
   "default_parameters": {},
   "duration": 1197.657319,
   "end_time": "2023-12-29T07:35:33.814896",
   "environment_variables": {},
   "exception": null,
   "input_path": "__notebook__.ipynb",
   "output_path": "__notebook__.ipynb",
   "parameters": {},
   "start_time": "2023-12-29T07:15:36.157577",
   "version": "2.4.0"
  }
 },
 "nbformat": 4,
 "nbformat_minor": 5
}
